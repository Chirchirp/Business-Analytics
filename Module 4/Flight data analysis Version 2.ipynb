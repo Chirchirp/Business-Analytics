{
 "cells": [
  {
   "cell_type": "code",
   "execution_count": 1,
   "id": "42562139",
   "metadata": {},
   "outputs": [],
   "source": [
    "import numpy as np\n",
    "import pandas as pd\n",
    "import matplotlib.pyplot as plt\n",
    "from datetime import datetime\n",
    "\n",
    "from sklearn.metrics import roc_auc_score\n",
    "from sklearn.model_selection import GridSearchCV, StratifiedKFold, train_test_split, cross_val_score\n",
    "\n",
    "from sklearn.impute import SimpleImputer\n",
    "from sklearn.preprocessing import StandardScaler\n",
    "\n",
    "from sklearn.naive_bayes import GaussianNB\n",
    "from sklearn.neighbors import KNeighborsClassifier\n",
    "from sklearn.tree import DecisionTreeClassifier\n",
    "from sklearn.ensemble import RandomForestClassifier\n",
    "\n",
    "from sklearn.discriminant_analysis import LinearDiscriminantAnalysis\n",
    "from sklearn.discriminant_analysis import QuadraticDiscriminantAnalysis\n",
    "\n",
    "from xgboost import XGBClassifier\n",
    "\n",
    "inp_dir = '../input/nyc-flights-2013/'"
   ]
  },
  {
   "cell_type": "code",
   "execution_count": 2,
   "id": "62ae4d2b",
   "metadata": {},
   "outputs": [],
   "source": [
    "flights = pd.read_csv(r\"A:\\Data Analytics\\Flight Data\\nyc_flights.csv\", parse_dates=['time_hour'])\n",
    "weather = pd.read_csv(r\"A:\\Data Analytics\\Flight Data\\nyc_weather.csv\", parse_dates=['time_hour'])\n",
    "planes = pd.read_csv(r\"A:\\Data Analytics\\Flight Data\\nyc_planes.csv\")\n",
    "airport = pd.read_csv(r\"A:\\Data Analytics\\Flight Data\\nyc_airports.csv\")\n",
    "airlines = pd.read_csv(r\"A:\\Data Analytics\\Flight Data\\nyc_airlines.csv\")\n"
   ]
  },
  {
   "cell_type": "code",
   "execution_count": 3,
   "id": "ad2e3a23",
   "metadata": {},
   "outputs": [
    {
     "data": {
      "text/html": [
       "<div>\n",
       "<style scoped>\n",
       "    .dataframe tbody tr th:only-of-type {\n",
       "        vertical-align: middle;\n",
       "    }\n",
       "\n",
       "    .dataframe tbody tr th {\n",
       "        vertical-align: top;\n",
       "    }\n",
       "\n",
       "    .dataframe thead th {\n",
       "        text-align: right;\n",
       "    }\n",
       "</style>\n",
       "<table border=\"1\" class=\"dataframe\">\n",
       "  <thead>\n",
       "    <tr style=\"text-align: right;\">\n",
       "      <th></th>\n",
       "      <th>year</th>\n",
       "      <th>month</th>\n",
       "      <th>day</th>\n",
       "      <th>dep_time</th>\n",
       "      <th>sched_dep_time</th>\n",
       "      <th>dep_delay</th>\n",
       "      <th>arr_time</th>\n",
       "      <th>sched_arr_time</th>\n",
       "      <th>arr_delay</th>\n",
       "      <th>carrier</th>\n",
       "      <th>flight</th>\n",
       "      <th>tailnum</th>\n",
       "      <th>origin</th>\n",
       "      <th>dest</th>\n",
       "      <th>air_time</th>\n",
       "      <th>distance</th>\n",
       "      <th>hour</th>\n",
       "      <th>minute</th>\n",
       "      <th>time_hour</th>\n",
       "    </tr>\n",
       "  </thead>\n",
       "  <tbody>\n",
       "    <tr>\n",
       "      <th>116</th>\n",
       "      <td>2013</td>\n",
       "      <td>1</td>\n",
       "      <td>1</td>\n",
       "      <td>810.0</td>\n",
       "      <td>810</td>\n",
       "      <td>0.0</td>\n",
       "      <td>1048.0</td>\n",
       "      <td>1037</td>\n",
       "      <td>11.0</td>\n",
       "      <td>9E</td>\n",
       "      <td>3538</td>\n",
       "      <td>N915XJ</td>\n",
       "      <td>JFK</td>\n",
       "      <td>MSP</td>\n",
       "      <td>189.0</td>\n",
       "      <td>1029</td>\n",
       "      <td>8</td>\n",
       "      <td>10</td>\n",
       "      <td>2013-01-01 13:00:00+00:00</td>\n",
       "    </tr>\n",
       "    <tr>\n",
       "      <th>427</th>\n",
       "      <td>2013</td>\n",
       "      <td>1</td>\n",
       "      <td>1</td>\n",
       "      <td>1451.0</td>\n",
       "      <td>1500</td>\n",
       "      <td>-9.0</td>\n",
       "      <td>1634.0</td>\n",
       "      <td>1636</td>\n",
       "      <td>-2.0</td>\n",
       "      <td>9E</td>\n",
       "      <td>4105</td>\n",
       "      <td>N8444F</td>\n",
       "      <td>JFK</td>\n",
       "      <td>IAD</td>\n",
       "      <td>57.0</td>\n",
       "      <td>228</td>\n",
       "      <td>15</td>\n",
       "      <td>0</td>\n",
       "      <td>2013-01-01 20:00:00+00:00</td>\n",
       "    </tr>\n",
       "    <tr>\n",
       "      <th>428</th>\n",
       "      <td>2013</td>\n",
       "      <td>1</td>\n",
       "      <td>1</td>\n",
       "      <td>1452.0</td>\n",
       "      <td>1455</td>\n",
       "      <td>-3.0</td>\n",
       "      <td>1637.0</td>\n",
       "      <td>1639</td>\n",
       "      <td>-2.0</td>\n",
       "      <td>9E</td>\n",
       "      <td>3295</td>\n",
       "      <td>N920XJ</td>\n",
       "      <td>JFK</td>\n",
       "      <td>BUF</td>\n",
       "      <td>68.0</td>\n",
       "      <td>301</td>\n",
       "      <td>14</td>\n",
       "      <td>55</td>\n",
       "      <td>2013-01-01 19:00:00+00:00</td>\n",
       "    </tr>\n",
       "    <tr>\n",
       "      <th>433</th>\n",
       "      <td>2013</td>\n",
       "      <td>1</td>\n",
       "      <td>1</td>\n",
       "      <td>1454.0</td>\n",
       "      <td>1500</td>\n",
       "      <td>-6.0</td>\n",
       "      <td>1635.0</td>\n",
       "      <td>1636</td>\n",
       "      <td>-1.0</td>\n",
       "      <td>9E</td>\n",
       "      <td>3843</td>\n",
       "      <td>N8409N</td>\n",
       "      <td>JFK</td>\n",
       "      <td>SYR</td>\n",
       "      <td>57.0</td>\n",
       "      <td>209</td>\n",
       "      <td>15</td>\n",
       "      <td>0</td>\n",
       "      <td>2013-01-01 20:00:00+00:00</td>\n",
       "    </tr>\n",
       "    <tr>\n",
       "      <th>451</th>\n",
       "      <td>2013</td>\n",
       "      <td>1</td>\n",
       "      <td>1</td>\n",
       "      <td>1507.0</td>\n",
       "      <td>1515</td>\n",
       "      <td>-8.0</td>\n",
       "      <td>1651.0</td>\n",
       "      <td>1656</td>\n",
       "      <td>-5.0</td>\n",
       "      <td>9E</td>\n",
       "      <td>3792</td>\n",
       "      <td>N8631E</td>\n",
       "      <td>JFK</td>\n",
       "      <td>ROC</td>\n",
       "      <td>66.0</td>\n",
       "      <td>264</td>\n",
       "      <td>15</td>\n",
       "      <td>15</td>\n",
       "      <td>2013-01-01 20:00:00+00:00</td>\n",
       "    </tr>\n",
       "    <tr>\n",
       "      <th>...</th>\n",
       "      <td>...</td>\n",
       "      <td>...</td>\n",
       "      <td>...</td>\n",
       "      <td>...</td>\n",
       "      <td>...</td>\n",
       "      <td>...</td>\n",
       "      <td>...</td>\n",
       "      <td>...</td>\n",
       "      <td>...</td>\n",
       "      <td>...</td>\n",
       "      <td>...</td>\n",
       "      <td>...</td>\n",
       "      <td>...</td>\n",
       "      <td>...</td>\n",
       "      <td>...</td>\n",
       "      <td>...</td>\n",
       "      <td>...</td>\n",
       "      <td>...</td>\n",
       "      <td>...</td>\n",
       "    </tr>\n",
       "    <tr>\n",
       "      <th>336713</th>\n",
       "      <td>2013</td>\n",
       "      <td>9</td>\n",
       "      <td>30</td>\n",
       "      <td>2035.0</td>\n",
       "      <td>2035</td>\n",
       "      <td>0.0</td>\n",
       "      <td>2142.0</td>\n",
       "      <td>2211</td>\n",
       "      <td>-29.0</td>\n",
       "      <td>9E</td>\n",
       "      <td>3395</td>\n",
       "      <td>N602LR</td>\n",
       "      <td>JFK</td>\n",
       "      <td>DCA</td>\n",
       "      <td>43.0</td>\n",
       "      <td>213</td>\n",
       "      <td>20</td>\n",
       "      <td>35</td>\n",
       "      <td>2013-10-01 00:00:00+00:00</td>\n",
       "    </tr>\n",
       "    <tr>\n",
       "      <th>336725</th>\n",
       "      <td>2013</td>\n",
       "      <td>9</td>\n",
       "      <td>30</td>\n",
       "      <td>2053.0</td>\n",
       "      <td>2015</td>\n",
       "      <td>38.0</td>\n",
       "      <td>2146.0</td>\n",
       "      <td>2144</td>\n",
       "      <td>2.0</td>\n",
       "      <td>9E</td>\n",
       "      <td>3899</td>\n",
       "      <td>N8423C</td>\n",
       "      <td>JFK</td>\n",
       "      <td>BWI</td>\n",
       "      <td>33.0</td>\n",
       "      <td>184</td>\n",
       "      <td>20</td>\n",
       "      <td>15</td>\n",
       "      <td>2013-10-01 00:00:00+00:00</td>\n",
       "    </tr>\n",
       "    <tr>\n",
       "      <th>336757</th>\n",
       "      <td>2013</td>\n",
       "      <td>9</td>\n",
       "      <td>30</td>\n",
       "      <td>2159.0</td>\n",
       "      <td>1845</td>\n",
       "      <td>194.0</td>\n",
       "      <td>2344.0</td>\n",
       "      <td>2030</td>\n",
       "      <td>194.0</td>\n",
       "      <td>9E</td>\n",
       "      <td>3320</td>\n",
       "      <td>N906XJ</td>\n",
       "      <td>JFK</td>\n",
       "      <td>BUF</td>\n",
       "      <td>50.0</td>\n",
       "      <td>301</td>\n",
       "      <td>18</td>\n",
       "      <td>45</td>\n",
       "      <td>2013-09-30 22:00:00+00:00</td>\n",
       "    </tr>\n",
       "    <tr>\n",
       "      <th>336771</th>\n",
       "      <td>2013</td>\n",
       "      <td>9</td>\n",
       "      <td>30</td>\n",
       "      <td>NaN</td>\n",
       "      <td>1455</td>\n",
       "      <td>NaN</td>\n",
       "      <td>NaN</td>\n",
       "      <td>1634</td>\n",
       "      <td>NaN</td>\n",
       "      <td>9E</td>\n",
       "      <td>3393</td>\n",
       "      <td>NaN</td>\n",
       "      <td>JFK</td>\n",
       "      <td>DCA</td>\n",
       "      <td>NaN</td>\n",
       "      <td>213</td>\n",
       "      <td>14</td>\n",
       "      <td>55</td>\n",
       "      <td>2013-09-30 18:00:00+00:00</td>\n",
       "    </tr>\n",
       "    <tr>\n",
       "      <th>336772</th>\n",
       "      <td>2013</td>\n",
       "      <td>9</td>\n",
       "      <td>30</td>\n",
       "      <td>NaN</td>\n",
       "      <td>2200</td>\n",
       "      <td>NaN</td>\n",
       "      <td>NaN</td>\n",
       "      <td>2312</td>\n",
       "      <td>NaN</td>\n",
       "      <td>9E</td>\n",
       "      <td>3525</td>\n",
       "      <td>NaN</td>\n",
       "      <td>LGA</td>\n",
       "      <td>SYR</td>\n",
       "      <td>NaN</td>\n",
       "      <td>198</td>\n",
       "      <td>22</td>\n",
       "      <td>0</td>\n",
       "      <td>2013-10-01 02:00:00+00:00</td>\n",
       "    </tr>\n",
       "  </tbody>\n",
       "</table>\n",
       "<p>18460 rows × 19 columns</p>\n",
       "</div>"
      ],
      "text/plain": [
       "        year  month  day  dep_time  sched_dep_time  dep_delay  arr_time  \\\n",
       "116     2013      1    1     810.0             810        0.0    1048.0   \n",
       "427     2013      1    1    1451.0            1500       -9.0    1634.0   \n",
       "428     2013      1    1    1452.0            1455       -3.0    1637.0   \n",
       "433     2013      1    1    1454.0            1500       -6.0    1635.0   \n",
       "451     2013      1    1    1507.0            1515       -8.0    1651.0   \n",
       "...      ...    ...  ...       ...             ...        ...       ...   \n",
       "336713  2013      9   30    2035.0            2035        0.0    2142.0   \n",
       "336725  2013      9   30    2053.0            2015       38.0    2146.0   \n",
       "336757  2013      9   30    2159.0            1845      194.0    2344.0   \n",
       "336771  2013      9   30       NaN            1455        NaN       NaN   \n",
       "336772  2013      9   30       NaN            2200        NaN       NaN   \n",
       "\n",
       "        sched_arr_time  arr_delay carrier  flight tailnum origin dest  \\\n",
       "116               1037       11.0      9E    3538  N915XJ    JFK  MSP   \n",
       "427               1636       -2.0      9E    4105  N8444F    JFK  IAD   \n",
       "428               1639       -2.0      9E    3295  N920XJ    JFK  BUF   \n",
       "433               1636       -1.0      9E    3843  N8409N    JFK  SYR   \n",
       "451               1656       -5.0      9E    3792  N8631E    JFK  ROC   \n",
       "...                ...        ...     ...     ...     ...    ...  ...   \n",
       "336713            2211      -29.0      9E    3395  N602LR    JFK  DCA   \n",
       "336725            2144        2.0      9E    3899  N8423C    JFK  BWI   \n",
       "336757            2030      194.0      9E    3320  N906XJ    JFK  BUF   \n",
       "336771            1634        NaN      9E    3393     NaN    JFK  DCA   \n",
       "336772            2312        NaN      9E    3525     NaN    LGA  SYR   \n",
       "\n",
       "        air_time  distance  hour  minute                 time_hour  \n",
       "116        189.0      1029     8      10 2013-01-01 13:00:00+00:00  \n",
       "427         57.0       228    15       0 2013-01-01 20:00:00+00:00  \n",
       "428         68.0       301    14      55 2013-01-01 19:00:00+00:00  \n",
       "433         57.0       209    15       0 2013-01-01 20:00:00+00:00  \n",
       "451         66.0       264    15      15 2013-01-01 20:00:00+00:00  \n",
       "...          ...       ...   ...     ...                       ...  \n",
       "336713      43.0       213    20      35 2013-10-01 00:00:00+00:00  \n",
       "336725      33.0       184    20      15 2013-10-01 00:00:00+00:00  \n",
       "336757      50.0       301    18      45 2013-09-30 22:00:00+00:00  \n",
       "336771       NaN       213    14      55 2013-09-30 18:00:00+00:00  \n",
       "336772       NaN       198    22       0 2013-10-01 02:00:00+00:00  \n",
       "\n",
       "[18460 rows x 19 columns]"
      ]
     },
     "execution_count": 3,
     "metadata": {},
     "output_type": "execute_result"
    }
   ],
   "source": [
    "flights.loc[flights['carrier']=='9E']"
   ]
  },
  {
   "cell_type": "code",
   "execution_count": 5,
   "id": "7874ccdd",
   "metadata": {},
   "outputs": [
    {
     "data": {
      "text/html": [
       "<div>\n",
       "<style scoped>\n",
       "    .dataframe tbody tr th:only-of-type {\n",
       "        vertical-align: middle;\n",
       "    }\n",
       "\n",
       "    .dataframe tbody tr th {\n",
       "        vertical-align: top;\n",
       "    }\n",
       "\n",
       "    .dataframe thead th {\n",
       "        text-align: right;\n",
       "    }\n",
       "</style>\n",
       "<table border=\"1\" class=\"dataframe\">\n",
       "  <thead>\n",
       "    <tr style=\"text-align: right;\">\n",
       "      <th></th>\n",
       "      <th>tailnum</th>\n",
       "      <th>year</th>\n",
       "      <th>type</th>\n",
       "      <th>manufacturer</th>\n",
       "      <th>model</th>\n",
       "      <th>engines</th>\n",
       "      <th>seats</th>\n",
       "      <th>speed</th>\n",
       "      <th>engine</th>\n",
       "    </tr>\n",
       "  </thead>\n",
       "  <tbody>\n",
       "    <tr>\n",
       "      <th>4</th>\n",
       "      <td>N10575</td>\n",
       "      <td>2002.0</td>\n",
       "      <td>Fixed wing multi engine</td>\n",
       "      <td>EMBRAER</td>\n",
       "      <td>EMB-145LR</td>\n",
       "      <td>2</td>\n",
       "      <td>55</td>\n",
       "      <td>NaN</td>\n",
       "      <td>Turbo-fan</td>\n",
       "    </tr>\n",
       "    <tr>\n",
       "      <th>38</th>\n",
       "      <td>N11535</td>\n",
       "      <td>2001.0</td>\n",
       "      <td>Fixed wing multi engine</td>\n",
       "      <td>EMBRAER</td>\n",
       "      <td>EMB-145LR</td>\n",
       "      <td>2</td>\n",
       "      <td>55</td>\n",
       "      <td>NaN</td>\n",
       "      <td>Turbo-fan</td>\n",
       "    </tr>\n",
       "    <tr>\n",
       "      <th>39</th>\n",
       "      <td>N11536</td>\n",
       "      <td>2001.0</td>\n",
       "      <td>Fixed wing multi engine</td>\n",
       "      <td>EMBRAER</td>\n",
       "      <td>EMB-145LR</td>\n",
       "      <td>2</td>\n",
       "      <td>55</td>\n",
       "      <td>NaN</td>\n",
       "      <td>Turbo-fan</td>\n",
       "    </tr>\n",
       "    <tr>\n",
       "      <th>40</th>\n",
       "      <td>N11539</td>\n",
       "      <td>2001.0</td>\n",
       "      <td>Fixed wing multi engine</td>\n",
       "      <td>EMBRAER</td>\n",
       "      <td>EMB-145LR</td>\n",
       "      <td>2</td>\n",
       "      <td>55</td>\n",
       "      <td>NaN</td>\n",
       "      <td>Turbo-fan</td>\n",
       "    </tr>\n",
       "    <tr>\n",
       "      <th>41</th>\n",
       "      <td>N11544</td>\n",
       "      <td>2002.0</td>\n",
       "      <td>Fixed wing multi engine</td>\n",
       "      <td>EMBRAER</td>\n",
       "      <td>EMB-145LR</td>\n",
       "      <td>2</td>\n",
       "      <td>55</td>\n",
       "      <td>NaN</td>\n",
       "      <td>Turbo-fan</td>\n",
       "    </tr>\n",
       "    <tr>\n",
       "      <th>...</th>\n",
       "      <td>...</td>\n",
       "      <td>...</td>\n",
       "      <td>...</td>\n",
       "      <td>...</td>\n",
       "      <td>...</td>\n",
       "      <td>...</td>\n",
       "      <td>...</td>\n",
       "      <td>...</td>\n",
       "      <td>...</td>\n",
       "    </tr>\n",
       "    <tr>\n",
       "      <th>559</th>\n",
       "      <td>N26549</td>\n",
       "      <td>2002.0</td>\n",
       "      <td>Fixed wing multi engine</td>\n",
       "      <td>EMBRAER</td>\n",
       "      <td>EMB-145LR</td>\n",
       "      <td>2</td>\n",
       "      <td>55</td>\n",
       "      <td>NaN</td>\n",
       "      <td>Turbo-fan</td>\n",
       "    </tr>\n",
       "    <tr>\n",
       "      <th>647</th>\n",
       "      <td>N29906</td>\n",
       "      <td>2001.0</td>\n",
       "      <td>Fixed wing multi engine</td>\n",
       "      <td>EMBRAER</td>\n",
       "      <td>EMB-145LR</td>\n",
       "      <td>2</td>\n",
       "      <td>55</td>\n",
       "      <td>NaN</td>\n",
       "      <td>Turbo-fan</td>\n",
       "    </tr>\n",
       "    <tr>\n",
       "      <th>648</th>\n",
       "      <td>N29917</td>\n",
       "      <td>2001.0</td>\n",
       "      <td>Fixed wing multi engine</td>\n",
       "      <td>EMBRAER</td>\n",
       "      <td>EMB-145LR</td>\n",
       "      <td>2</td>\n",
       "      <td>55</td>\n",
       "      <td>NaN</td>\n",
       "      <td>Turbo-fan</td>\n",
       "    </tr>\n",
       "    <tr>\n",
       "      <th>912</th>\n",
       "      <td>N36915</td>\n",
       "      <td>2001.0</td>\n",
       "      <td>Fixed wing multi engine</td>\n",
       "      <td>EMBRAER</td>\n",
       "      <td>EMB-145LR</td>\n",
       "      <td>2</td>\n",
       "      <td>55</td>\n",
       "      <td>NaN</td>\n",
       "      <td>Turbo-fan</td>\n",
       "    </tr>\n",
       "    <tr>\n",
       "      <th>1377</th>\n",
       "      <td>N48901</td>\n",
       "      <td>2001.0</td>\n",
       "      <td>Fixed wing multi engine</td>\n",
       "      <td>EMBRAER</td>\n",
       "      <td>EMB-145LR</td>\n",
       "      <td>2</td>\n",
       "      <td>55</td>\n",
       "      <td>NaN</td>\n",
       "      <td>Turbo-fan</td>\n",
       "    </tr>\n",
       "  </tbody>\n",
       "</table>\n",
       "<p>114 rows × 9 columns</p>\n",
       "</div>"
      ],
      "text/plain": [
       "     tailnum    year                     type manufacturer      model  \\\n",
       "4     N10575  2002.0  Fixed wing multi engine      EMBRAER  EMB-145LR   \n",
       "38    N11535  2001.0  Fixed wing multi engine      EMBRAER  EMB-145LR   \n",
       "39    N11536  2001.0  Fixed wing multi engine      EMBRAER  EMB-145LR   \n",
       "40    N11539  2001.0  Fixed wing multi engine      EMBRAER  EMB-145LR   \n",
       "41    N11544  2002.0  Fixed wing multi engine      EMBRAER  EMB-145LR   \n",
       "...      ...     ...                      ...          ...        ...   \n",
       "559   N26549  2002.0  Fixed wing multi engine      EMBRAER  EMB-145LR   \n",
       "647   N29906  2001.0  Fixed wing multi engine      EMBRAER  EMB-145LR   \n",
       "648   N29917  2001.0  Fixed wing multi engine      EMBRAER  EMB-145LR   \n",
       "912   N36915  2001.0  Fixed wing multi engine      EMBRAER  EMB-145LR   \n",
       "1377  N48901  2001.0  Fixed wing multi engine      EMBRAER  EMB-145LR   \n",
       "\n",
       "      engines  seats  speed     engine  \n",
       "4           2     55    NaN  Turbo-fan  \n",
       "38          2     55    NaN  Turbo-fan  \n",
       "39          2     55    NaN  Turbo-fan  \n",
       "40          2     55    NaN  Turbo-fan  \n",
       "41          2     55    NaN  Turbo-fan  \n",
       "...       ...    ...    ...        ...  \n",
       "559         2     55    NaN  Turbo-fan  \n",
       "647         2     55    NaN  Turbo-fan  \n",
       "648         2     55    NaN  Turbo-fan  \n",
       "912         2     55    NaN  Turbo-fan  \n",
       "1377        2     55    NaN  Turbo-fan  \n",
       "\n",
       "[114 rows x 9 columns]"
      ]
     },
     "execution_count": 5,
     "metadata": {},
     "output_type": "execute_result"
    }
   ],
   "source": [
    "planes.loc[planes['model'] == 'EMB-145LR']"
   ]
  },
  {
   "cell_type": "markdown",
   "id": "22da4ed1",
   "metadata": {},
   "source": []
  },
  {
   "cell_type": "code",
   "execution_count": null,
   "id": "4cfbf7fb",
   "metadata": {},
   "outputs": [],
   "source": []
  },
  {
   "cell_type": "code",
   "execution_count": null,
   "id": "5b9a9f0e",
   "metadata": {},
   "outputs": [],
   "source": []
  },
  {
   "cell_type": "code",
   "execution_count": null,
   "id": "361adde4",
   "metadata": {},
   "outputs": [],
   "source": []
  },
  {
   "cell_type": "code",
   "execution_count": 37,
   "id": "3b013780",
   "metadata": {
    "scrolled": true
   },
   "outputs": [
    {
     "data": {
      "text/plain": [
       "year                 0\n",
       "month                0\n",
       "day                  0\n",
       "dep_time             0\n",
       "sched_dep_time       0\n",
       "dep_delay            0\n",
       "arr_time           458\n",
       "sched_arr_time       0\n",
       "arr_delay         1175\n",
       "carrier              0\n",
       "flight               0\n",
       "tailnum              0\n",
       "origin               0\n",
       "dest                 0\n",
       "air_time          1175\n",
       "distance             0\n",
       "hour                 0\n",
       "minute               0\n",
       "time_hour            0\n",
       "dtype: int64"
      ]
     },
     "execution_count": 37,
     "metadata": {},
     "output_type": "execute_result"
    }
   ],
   "source": [
    "flights.loc[flights['dep_time'].isnull() == False].isnull().sum()"
   ]
  },
  {
   "cell_type": "code",
   "execution_count": 38,
   "id": "ff9b1d37",
   "metadata": {},
   "outputs": [
    {
     "data": {
      "text/plain": [
       "(-43.0, 1301.0)"
      ]
     },
     "execution_count": 38,
     "metadata": {},
     "output_type": "execute_result"
    }
   ],
   "source": [
    "flights['dep_delay'].min(), flights['dep_delay'].max()"
   ]
  },
  {
   "cell_type": "code",
   "execution_count": 39,
   "id": "3ba26311",
   "metadata": {},
   "outputs": [
    {
     "data": {
      "image/png": "[encoded data removed]",
      "text/plain": [
       "<Figure size 640x480 with 1 Axes>"
      ]
     },
     "metadata": {},
     "output_type": "display_data"
    }
   ],
   "source": [
    "flights.groupby('month')['dep_delay'].mean().plot()\n",
    "plt.show()"
   ]
  },
  {
   "cell_type": "code",
   "execution_count": 40,
   "id": "730e77a0",
   "metadata": {},
   "outputs": [
    {
     "data": {
      "text/plain": [
       "0          1\n",
       "1          1\n",
       "2          1\n",
       "3          1\n",
       "4          1\n",
       "          ..\n",
       "336771    40\n",
       "336772    40\n",
       "336773    40\n",
       "336774    40\n",
       "336775    40\n",
       "Length: 336776, dtype: int64"
      ]
     },
     "execution_count": 40,
     "metadata": {},
     "output_type": "execute_result"
    }
   ],
   "source": [
    "flights.apply(lambda x: datetime(x['year'], x['month'], x['day']).isocalendar()[1], axis=1)"
   ]
  },
  {
   "cell_type": "code",
   "execution_count": 41,
   "id": "0b2790f5",
   "metadata": {},
   "outputs": [
    {
     "name": "stdout",
     "output_type": "stream",
     "text": [
      "tailnum : ['N10156' 'N102UW' 'N103US' ... 'N998AT' 'N998DL' 'N999DN']\n",
      "year : [2004. 1998. 1999. 2002. 2003. 2005. 2006. 2000. 2001. 1994. 1995. 1996.\n",
      " 1987. 2009. 2010. 1991. 1997.   nan 1965. 2007. 1990. 2013. 2008. 1992.\n",
      " 1993. 1959. 1980. 2011. 2012. 1988. 1985. 1986. 1989. 1973. 1978. 1963.\n",
      " 1956. 1972. 1968. 1975. 1979. 1983. 1976. 1984. 1967. 1977. 1974.]\n",
      "type : ['Fixed wing multi engine' 'Fixed wing single engine' 'Rotorcraft']\n",
      "manufacturer : ['EMBRAER' 'AIRBUS INDUSTRIE' 'BOEING' 'AIRBUS' 'BOMBARDIER INC' 'CESSNA'\n",
      " 'JOHN G HESS' 'GULFSTREAM AEROSPACE' 'SIKORSKY' 'PIPER' 'AGUSTA SPA'\n",
      " 'PAIR MIKE E' 'DOUGLAS' 'BEECH' 'BELL' 'AVIAT AIRCRAFT INC'\n",
      " 'STEWART MACO' 'LEARJET INC' 'MCDONNELL DOUGLAS' 'CIRRUS DESIGN CORP'\n",
      " 'HURLEY JAMES LARRY' 'KILDALL GARY' 'LAMBERT RICHARD' 'BARKER JACK L'\n",
      " 'AMERICAN AIRCRAFT INC' 'ROBINSON HELICOPTER CO' 'FRIEDEMANN JON'\n",
      " 'LEBLANC GLENN T' 'MARZ BARRY' 'DEHAVILLAND' 'CANADAIR' 'CANADAIR LTD'\n",
      " 'MCDONNELL DOUGLAS CORPORATION' 'MCDONNELL DOUGLAS AIRCRAFT CO'\n",
      " 'AVIONS MARCEL DASSAULT']\n",
      "model : ['EMB-145XR' 'A320-214' 'EMB-145LR' '737-824' '767-332' '757-224'\n",
      " 'CL-600-2D24' '737-724' '737-524' '767-3P6' 'A321-211' '737-76N'\n",
      " 'ERJ 190-100 IGW' '737-7H4' '150' '421C' '777-222' '787-8' '767-201'\n",
      " '737-705' '777-200' '737-924ER' 'EMB-145' 'A340-313' '737-732' 'A319-114'\n",
      " '737-990' '737-924' '737-7BD' 'A320-211' 'AT-5' '737-3Q8' '767-223'\n",
      " 'A320-212' '737-3K2' 'G-IV' '737-3H4' 'S-76A' 'PA-31-350' '767-323'\n",
      " '310Q' 'A109E' 'CL-600-2C10' '737-832' 'PA-32RT-300' 'FALCON XP' '172E'\n",
      " 'A330-243' 'DC-7BF' 'E-90' '230' 'A-1B' '767-324' '60' 'A320-232'\n",
      " '737-990ER' '737-401' 'DC-9-82(MD-82)' 'PA-28-180' 'CL-600-2B19'\n",
      " '737-4B7' 'DC-9-83(MD-83)' '757-251' '757-222' '737-5H4' '737-890'\n",
      " 'A321-231' '206B' 'SR22' 'FALCON-XP' '550' 'A185F' 'A319-115' 'A319-112'\n",
      " 'ZODIAC 601HDS' 'R66' 'VANS AIRCRAFT RV6' 'PA-32R-300' '737-8FH'\n",
      " '737-76Q' '737-7BX' 'KITFOX IV' 'OTTER DHC-3' '757-324' '777-224'\n",
      " '210-5(205)' '757-33N' '757-351' '767-424ER' 'DC-9-51' '757-232'\n",
      " '717-200' '757-223' '65-A90' '172M' 'A320-231' '757-2Q8' '767-322'\n",
      " '737-3L9' '737-301' '737-3Y0' '737-3A4' '737-3G7' '747-451' '767-224'\n",
      " '737-3TO' '737-317' '737-3T5' '757-231' 'G1159B' '172N' '757-212'\n",
      " '737-7AD' '737-7Q8' 'A319-132' 'A319-131' 'A330-323' '767-432ER'\n",
      " '737-8H4' 'CF-5D' 'A330-223' '777-232' 'MD-88' '757-26D' 'MD-90-30'\n",
      " 'MYSTERE FALCON 900' '757-2B7']\n",
      "engines : [2 1 4 3]\n",
      "seats : [ 55 182 149 330 178  95 290 199  20 140   2   8 400 260 255 191 375 145\n",
      "  22  14   6  80 189   7   4 377 102  10  11 269 200 222 172 379   5 147\n",
      " 100  16 275 292 139   9 450 179 128 300 142  12]\n",
      "speed : [ nan  90. 162. 167. 105. 232. 107. 112. 127. 126.  95. 432. 202. 108.]\n",
      "engine : ['Turbo-fan' 'Turbo-jet' 'Reciprocating' '4 Cycle' 'Turbo-shaft'\n",
      " 'Turbo-prop']\n"
     ]
    }
   ],
   "source": [
    "for col in planes.columns:\n",
    "    print(f'{col} : {planes[col].unique()}')"
   ]
  },
  {
   "cell_type": "code",
   "execution_count": 42,
   "id": "aba90d8a",
   "metadata": {},
   "outputs": [
    {
     "name": "stdout",
     "output_type": "stream",
     "text": [
      "(26115, 15)\n"
     ]
    },
    {
     "data": {
      "text/plain": [
       "origin            0\n",
       "year              0\n",
       "month             0\n",
       "day               0\n",
       "hour              0\n",
       "temp              1\n",
       "dewp              1\n",
       "humid             1\n",
       "wind_dir        460\n",
       "wind_speed        4\n",
       "wind_gust     20778\n",
       "precip            0\n",
       "pressure       2729\n",
       "visib             0\n",
       "time_hour         0\n",
       "dtype: int64"
      ]
     },
     "execution_count": 42,
     "metadata": {},
     "output_type": "execute_result"
    }
   ],
   "source": [
    "print(weather.shape)\n",
    "weather.isnull().sum()"
   ]
  },
  {
   "cell_type": "code",
   "execution_count": 43,
   "id": "a9f35da9",
   "metadata": {},
   "outputs": [
    {
     "data": {
      "text/html": [
       "<div>\n",
       "<style scoped>\n",
       "    .dataframe tbody tr th:only-of-type {\n",
       "        vertical-align: middle;\n",
       "    }\n",
       "\n",
       "    .dataframe tbody tr th {\n",
       "        vertical-align: top;\n",
       "    }\n",
       "\n",
       "    .dataframe thead th {\n",
       "        text-align: right;\n",
       "    }\n",
       "</style>\n",
       "<table border=\"1\" class=\"dataframe\">\n",
       "  <thead>\n",
       "    <tr style=\"text-align: right;\">\n",
       "      <th></th>\n",
       "      <th>year</th>\n",
       "      <th>month</th>\n",
       "      <th>day</th>\n",
       "      <th>sched_dep_time</th>\n",
       "      <th>dep_delay</th>\n",
       "      <th>sched_arr_time</th>\n",
       "      <th>carrier</th>\n",
       "      <th>flight</th>\n",
       "      <th>tailnum</th>\n",
       "      <th>origin</th>\n",
       "      <th>dest</th>\n",
       "      <th>distance</th>\n",
       "      <th>hour</th>\n",
       "      <th>minute</th>\n",
       "      <th>time_hour</th>\n",
       "    </tr>\n",
       "  </thead>\n",
       "  <tbody>\n",
       "    <tr>\n",
       "      <th>0</th>\n",
       "      <td>2013</td>\n",
       "      <td>1</td>\n",
       "      <td>1</td>\n",
       "      <td>515</td>\n",
       "      <td>2.0</td>\n",
       "      <td>819</td>\n",
       "      <td>UA</td>\n",
       "      <td>1545</td>\n",
       "      <td>N14228</td>\n",
       "      <td>EWR</td>\n",
       "      <td>IAH</td>\n",
       "      <td>1400</td>\n",
       "      <td>5</td>\n",
       "      <td>15</td>\n",
       "      <td>2013-01-01 10:00:00+00:00</td>\n",
       "    </tr>\n",
       "    <tr>\n",
       "      <th>1</th>\n",
       "      <td>2013</td>\n",
       "      <td>1</td>\n",
       "      <td>1</td>\n",
       "      <td>529</td>\n",
       "      <td>4.0</td>\n",
       "      <td>830</td>\n",
       "      <td>UA</td>\n",
       "      <td>1714</td>\n",
       "      <td>N24211</td>\n",
       "      <td>LGA</td>\n",
       "      <td>IAH</td>\n",
       "      <td>1416</td>\n",
       "      <td>5</td>\n",
       "      <td>29</td>\n",
       "      <td>2013-01-01 10:00:00+00:00</td>\n",
       "    </tr>\n",
       "    <tr>\n",
       "      <th>2</th>\n",
       "      <td>2013</td>\n",
       "      <td>1</td>\n",
       "      <td>1</td>\n",
       "      <td>540</td>\n",
       "      <td>2.0</td>\n",
       "      <td>850</td>\n",
       "      <td>AA</td>\n",
       "      <td>1141</td>\n",
       "      <td>N619AA</td>\n",
       "      <td>JFK</td>\n",
       "      <td>MIA</td>\n",
       "      <td>1089</td>\n",
       "      <td>5</td>\n",
       "      <td>40</td>\n",
       "      <td>2013-01-01 10:00:00+00:00</td>\n",
       "    </tr>\n",
       "    <tr>\n",
       "      <th>3</th>\n",
       "      <td>2013</td>\n",
       "      <td>1</td>\n",
       "      <td>1</td>\n",
       "      <td>545</td>\n",
       "      <td>-1.0</td>\n",
       "      <td>1022</td>\n",
       "      <td>B6</td>\n",
       "      <td>725</td>\n",
       "      <td>N804JB</td>\n",
       "      <td>JFK</td>\n",
       "      <td>BQN</td>\n",
       "      <td>1576</td>\n",
       "      <td>5</td>\n",
       "      <td>45</td>\n",
       "      <td>2013-01-01 10:00:00+00:00</td>\n",
       "    </tr>\n",
       "    <tr>\n",
       "      <th>4</th>\n",
       "      <td>2013</td>\n",
       "      <td>1</td>\n",
       "      <td>1</td>\n",
       "      <td>600</td>\n",
       "      <td>-6.0</td>\n",
       "      <td>837</td>\n",
       "      <td>DL</td>\n",
       "      <td>461</td>\n",
       "      <td>N668DN</td>\n",
       "      <td>LGA</td>\n",
       "      <td>ATL</td>\n",
       "      <td>762</td>\n",
       "      <td>6</td>\n",
       "      <td>0</td>\n",
       "      <td>2013-01-01 11:00:00+00:00</td>\n",
       "    </tr>\n",
       "  </tbody>\n",
       "</table>\n",
       "</div>"
      ],
      "text/plain": [
       "   year  month  day  sched_dep_time  dep_delay  sched_arr_time carrier  \\\n",
       "0  2013      1    1             515        2.0             819      UA   \n",
       "1  2013      1    1             529        4.0             830      UA   \n",
       "2  2013      1    1             540        2.0             850      AA   \n",
       "3  2013      1    1             545       -1.0            1022      B6   \n",
       "4  2013      1    1             600       -6.0             837      DL   \n",
       "\n",
       "   flight tailnum origin dest  distance  hour  minute  \\\n",
       "0    1545  N14228    EWR  IAH      1400     5      15   \n",
       "1    1714  N24211    LGA  IAH      1416     5      29   \n",
       "2    1141  N619AA    JFK  MIA      1089     5      40   \n",
       "3     725  N804JB    JFK  BQN      1576     5      45   \n",
       "4     461  N668DN    LGA  ATL       762     6       0   \n",
       "\n",
       "                  time_hour  \n",
       "0 2013-01-01 10:00:00+00:00  \n",
       "1 2013-01-01 10:00:00+00:00  \n",
       "2 2013-01-01 10:00:00+00:00  \n",
       "3 2013-01-01 10:00:00+00:00  \n",
       "4 2013-01-01 11:00:00+00:00  "
      ]
     },
     "execution_count": 43,
     "metadata": {},
     "output_type": "execute_result"
    }
   ],
   "source": [
    "flights.drop(['arr_time', 'arr_delay', 'air_time', 'dep_time'], axis=1, inplace=True)\n",
    "flights.head()"
   ]
  },
  {
   "cell_type": "code",
   "execution_count": 44,
   "id": "0043233d",
   "metadata": {},
   "outputs": [
    {
     "data": {
      "text/plain": [
       "(328521, 15)"
      ]
     },
     "execution_count": 44,
     "metadata": {},
     "output_type": "execute_result"
    }
   ],
   "source": [
    "flights.drop(flights.loc[flights['dep_delay'].isnull()].index, inplace=True)\n",
    "flights.shape"
   ]
  },
  {
   "cell_type": "code",
   "execution_count": 45,
   "id": "25a527af",
   "metadata": {},
   "outputs": [
    {
     "name": "stdout",
     "output_type": "stream",
     "text": [
      "<class 'pandas.core.frame.DataFrame'>\n",
      "Index: 328521 entries, 0 to 336769\n",
      "Data columns (total 15 columns):\n",
      " #   Column          Non-Null Count   Dtype              \n",
      "---  ------          --------------   -----              \n",
      " 0   year            328521 non-null  int64              \n",
      " 1   month           328521 non-null  int64              \n",
      " 2   day             328521 non-null  int64              \n",
      " 3   sched_dep_time  328521 non-null  int64              \n",
      " 4   dep_delay       328521 non-null  int32              \n",
      " 5   sched_arr_time  328521 non-null  int64              \n",
      " 6   carrier         328521 non-null  object             \n",
      " 7   flight          328521 non-null  int64              \n",
      " 8   tailnum         328521 non-null  object             \n",
      " 9   origin          328521 non-null  object             \n",
      " 10  dest            328521 non-null  object             \n",
      " 11  distance        328521 non-null  int64              \n",
      " 12  hour            328521 non-null  int64              \n",
      " 13  minute          328521 non-null  int64              \n",
      " 14  time_hour       328521 non-null  datetime64[ns, UTC]\n",
      "dtypes: datetime64[ns, UTC](1), int32(1), int64(9), object(4)\n",
      "memory usage: 38.8+ MB\n"
     ]
    }
   ],
   "source": [
    "flights['dep_delay'] = flights['dep_delay'].astype('int')\n",
    "flights.info()"
   ]
  },
  {
   "cell_type": "code",
   "execution_count": 46,
   "id": "3e0f4d91",
   "metadata": {},
   "outputs": [
    {
     "data": {
      "text/html": [
       "<div>\n",
       "<style scoped>\n",
       "    .dataframe tbody tr th:only-of-type {\n",
       "        vertical-align: middle;\n",
       "    }\n",
       "\n",
       "    .dataframe tbody tr th {\n",
       "        vertical-align: top;\n",
       "    }\n",
       "\n",
       "    .dataframe thead th {\n",
       "        text-align: right;\n",
       "    }\n",
       "</style>\n",
       "<table border=\"1\" class=\"dataframe\">\n",
       "  <thead>\n",
       "    <tr style=\"text-align: right;\">\n",
       "      <th></th>\n",
       "      <th>year</th>\n",
       "      <th>month</th>\n",
       "      <th>day</th>\n",
       "      <th>sched_dep_time</th>\n",
       "      <th>dep_delay</th>\n",
       "      <th>sched_arr_time</th>\n",
       "      <th>carrier</th>\n",
       "      <th>flight</th>\n",
       "      <th>tailnum</th>\n",
       "      <th>origin</th>\n",
       "      <th>dest</th>\n",
       "      <th>distance</th>\n",
       "      <th>hour</th>\n",
       "      <th>minute</th>\n",
       "      <th>time_hour</th>\n",
       "      <th>week_day</th>\n",
       "      <th>week_float</th>\n",
       "    </tr>\n",
       "  </thead>\n",
       "  <tbody>\n",
       "    <tr>\n",
       "      <th>0</th>\n",
       "      <td>2013</td>\n",
       "      <td>1</td>\n",
       "      <td>1</td>\n",
       "      <td>515</td>\n",
       "      <td>2</td>\n",
       "      <td>819</td>\n",
       "      <td>UA</td>\n",
       "      <td>1545</td>\n",
       "      <td>N14228</td>\n",
       "      <td>EWR</td>\n",
       "      <td>IAH</td>\n",
       "      <td>1400</td>\n",
       "      <td>5</td>\n",
       "      <td>15</td>\n",
       "      <td>2013-01-01 10:00:00+00:00</td>\n",
       "      <td>2</td>\n",
       "      <td>1.142857</td>\n",
       "    </tr>\n",
       "    <tr>\n",
       "      <th>1</th>\n",
       "      <td>2013</td>\n",
       "      <td>1</td>\n",
       "      <td>1</td>\n",
       "      <td>529</td>\n",
       "      <td>4</td>\n",
       "      <td>830</td>\n",
       "      <td>UA</td>\n",
       "      <td>1714</td>\n",
       "      <td>N24211</td>\n",
       "      <td>LGA</td>\n",
       "      <td>IAH</td>\n",
       "      <td>1416</td>\n",
       "      <td>5</td>\n",
       "      <td>29</td>\n",
       "      <td>2013-01-01 10:00:00+00:00</td>\n",
       "      <td>2</td>\n",
       "      <td>1.142857</td>\n",
       "    </tr>\n",
       "    <tr>\n",
       "      <th>2</th>\n",
       "      <td>2013</td>\n",
       "      <td>1</td>\n",
       "      <td>1</td>\n",
       "      <td>540</td>\n",
       "      <td>2</td>\n",
       "      <td>850</td>\n",
       "      <td>AA</td>\n",
       "      <td>1141</td>\n",
       "      <td>N619AA</td>\n",
       "      <td>JFK</td>\n",
       "      <td>MIA</td>\n",
       "      <td>1089</td>\n",
       "      <td>5</td>\n",
       "      <td>40</td>\n",
       "      <td>2013-01-01 10:00:00+00:00</td>\n",
       "      <td>2</td>\n",
       "      <td>1.142857</td>\n",
       "    </tr>\n",
       "    <tr>\n",
       "      <th>3</th>\n",
       "      <td>2013</td>\n",
       "      <td>1</td>\n",
       "      <td>1</td>\n",
       "      <td>545</td>\n",
       "      <td>-1</td>\n",
       "      <td>1022</td>\n",
       "      <td>B6</td>\n",
       "      <td>725</td>\n",
       "      <td>N804JB</td>\n",
       "      <td>JFK</td>\n",
       "      <td>BQN</td>\n",
       "      <td>1576</td>\n",
       "      <td>5</td>\n",
       "      <td>45</td>\n",
       "      <td>2013-01-01 10:00:00+00:00</td>\n",
       "      <td>2</td>\n",
       "      <td>1.142857</td>\n",
       "    </tr>\n",
       "    <tr>\n",
       "      <th>4</th>\n",
       "      <td>2013</td>\n",
       "      <td>1</td>\n",
       "      <td>1</td>\n",
       "      <td>600</td>\n",
       "      <td>-6</td>\n",
       "      <td>837</td>\n",
       "      <td>DL</td>\n",
       "      <td>461</td>\n",
       "      <td>N668DN</td>\n",
       "      <td>LGA</td>\n",
       "      <td>ATL</td>\n",
       "      <td>762</td>\n",
       "      <td>6</td>\n",
       "      <td>0</td>\n",
       "      <td>2013-01-01 11:00:00+00:00</td>\n",
       "      <td>2</td>\n",
       "      <td>1.142857</td>\n",
       "    </tr>\n",
       "  </tbody>\n",
       "</table>\n",
       "</div>"
      ],
      "text/plain": [
       "   year  month  day  sched_dep_time  dep_delay  sched_arr_time carrier  \\\n",
       "0  2013      1    1             515          2             819      UA   \n",
       "1  2013      1    1             529          4             830      UA   \n",
       "2  2013      1    1             540          2             850      AA   \n",
       "3  2013      1    1             545         -1            1022      B6   \n",
       "4  2013      1    1             600         -6             837      DL   \n",
       "\n",
       "   flight tailnum origin dest  distance  hour  minute  \\\n",
       "0    1545  N14228    EWR  IAH      1400     5      15   \n",
       "1    1714  N24211    LGA  IAH      1416     5      29   \n",
       "2    1141  N619AA    JFK  MIA      1089     5      40   \n",
       "3     725  N804JB    JFK  BQN      1576     5      45   \n",
       "4     461  N668DN    LGA  ATL       762     6       0   \n",
       "\n",
       "                  time_hour  week_day  week_float  \n",
       "0 2013-01-01 10:00:00+00:00         2    1.142857  \n",
       "1 2013-01-01 10:00:00+00:00         2    1.142857  \n",
       "2 2013-01-01 10:00:00+00:00         2    1.142857  \n",
       "3 2013-01-01 10:00:00+00:00         2    1.142857  \n",
       "4 2013-01-01 11:00:00+00:00         2    1.142857  "
      ]
     },
     "execution_count": 46,
     "metadata": {},
     "output_type": "execute_result"
    }
   ],
   "source": [
    "def extract_week(x):\n",
    "    y,w,d = datetime(x['year'], x['month'], x['day']).isocalendar()\n",
    "    return d, w + (d-1)/7\n",
    "    \n",
    "flights['week_day'], flights['week_float'] = zip(*flights.apply(extract_week, axis=1))\n",
    "flights.head()"
   ]
  },
  {
   "cell_type": "code",
   "execution_count": 47,
   "id": "d9569b11",
   "metadata": {},
   "outputs": [],
   "source": [
    "flights.drop(['year','month','day','hour','minute'], axis=1, inplace=True)\n"
   ]
  },
  {
   "cell_type": "code",
   "execution_count": 48,
   "id": "41fa0926",
   "metadata": {},
   "outputs": [
    {
     "data": {
      "text/plain": [
       "(1, 2359)"
      ]
     },
     "execution_count": 48,
     "metadata": {},
     "output_type": "execute_result"
    }
   ],
   "source": [
    "flights['sched_arr_time'].min(), flights['sched_arr_time'].max()"
   ]
  },
  {
   "cell_type": "code",
   "execution_count": 49,
   "id": "a52399a4",
   "metadata": {},
   "outputs": [],
   "source": [
    "def convert_time_to_mins(row):\n",
    "    sc_dep = row['sched_dep_time']\n",
    "    sc_dep = sc_dep//100*60 + sc_dep%100\n",
    "    \n",
    "    sc_arr = row['sched_arr_time']\n",
    "    if  sc_arr < sc_dep:\n",
    "        sc_arr += 2400\n",
    "    sc_arr = sc_arr//100*60 + sc_arr%100\n",
    "    \n",
    "    dep_del = row['dep_delay']\n",
    "    if dep_del >0 :\n",
    "        dep_del = dep_del//100*60 + dep_del%100\n",
    "    \n",
    "    return sc_dep, dep_del, sc_arr\n",
    "    \n",
    "\n",
    "flights['sched_dep_time'], flights['dep_delay'], flights['sched_arr_time'] = zip(*flights.apply(convert_time_to_mins, axis=1))"
   ]
  },
  {
   "cell_type": "code",
   "execution_count": 50,
   "id": "da58ab27",
   "metadata": {},
   "outputs": [],
   "source": [
    "flights['sched_travel_time'] = flights['sched_arr_time'] - flights['sched_dep_time']\n",
    "flights.drop('sched_arr_time', axis=1, inplace=True)"
   ]
  },
  {
   "cell_type": "code",
   "execution_count": 51,
   "id": "3202b421",
   "metadata": {},
   "outputs": [],
   "source": [
    "flights.drop(['flight', 'dest'], axis=1, inplace=True)"
   ]
  },
  {
   "cell_type": "code",
   "execution_count": null,
   "id": "ae052896",
   "metadata": {},
   "outputs": [],
   "source": []
  },
  {
   "cell_type": "code",
   "execution_count": 52,
   "id": "26e7d6a0",
   "metadata": {
    "scrolled": false
   },
   "outputs": [
    {
     "data": {
      "text/plain": [
       "origin            0\n",
       "year              0\n",
       "month             0\n",
       "day               0\n",
       "hour              0\n",
       "temp              1\n",
       "dewp              1\n",
       "humid             1\n",
       "wind_dir        460\n",
       "wind_speed        4\n",
       "wind_gust     20778\n",
       "precip            0\n",
       "pressure       2729\n",
       "visib             0\n",
       "time_hour         0\n",
       "dtype: int64"
      ]
     },
     "execution_count": 52,
     "metadata": {},
     "output_type": "execute_result"
    }
   ],
   "source": [
    "weather.isnull().sum()"
   ]
  },
  {
   "cell_type": "code",
   "execution_count": 53,
   "id": "acbff37c",
   "metadata": {},
   "outputs": [],
   "source": [
    "weather.drop(['year', 'month', 'day', 'hour', 'wind_gust'], axis=1, inplace=True)"
   ]
  },
  {
   "cell_type": "code",
   "execution_count": 54,
   "id": "f224b45f",
   "metadata": {},
   "outputs": [],
   "source": [
    "imp = SimpleImputer(strategy='median')\n",
    "cols_to_impute = ['temp','dewp','humid','wind_dir','wind_speed','pressure']\n",
    "weather[cols_to_impute] = pd.DataFrame(imp.fit_transform(weather[cols_to_impute]), index=weather.index, columns=cols_to_impute)"
   ]
  },
  {
   "cell_type": "code",
   "execution_count": 55,
   "id": "9cd11fa8",
   "metadata": {},
   "outputs": [
    {
     "data": {
      "text/plain": [
       "(origin        0\n",
       " temp          0\n",
       " dewp          0\n",
       " humid         0\n",
       " wind_dir      0\n",
       " wind_speed    0\n",
       " precip        0\n",
       " pressure      0\n",
       " visib         0\n",
       " time_hour     0\n",
       " dtype: int64,\n",
       " (26190, 10))"
      ]
     },
     "execution_count": 55,
     "metadata": {},
     "output_type": "execute_result"
    }
   ],
   "source": [
    "we = None\n",
    "for port in weather['origin'].unique():\n",
    "    weather_t = weather.loc[weather['origin']==port].copy()\n",
    "    weather_t.set_index('time_hour', inplace=True)\n",
    "    weather_t = weather_t.asfreq('H', method='ffill')\n",
    "    weather_t['time_hour'] = weather_t.index\n",
    "    weather_t.reset_index(drop=True, inplace=True)\n",
    "    if we is None:\n",
    "        we = weather_t\n",
    "    else:\n",
    "        we = pd.concat([we, weather_t], ignore_index=True)\n",
    "weather = we\n",
    "we.isnull().sum(), we.shape"
   ]
  },
  {
   "cell_type": "code",
   "execution_count": 56,
   "id": "c6d87314",
   "metadata": {},
   "outputs": [
    {
     "data": {
      "text/html": [
       "<div>\n",
       "<style scoped>\n",
       "    .dataframe tbody tr th:only-of-type {\n",
       "        vertical-align: middle;\n",
       "    }\n",
       "\n",
       "    .dataframe tbody tr th {\n",
       "        vertical-align: top;\n",
       "    }\n",
       "\n",
       "    .dataframe thead th {\n",
       "        text-align: right;\n",
       "    }\n",
       "</style>\n",
       "<table border=\"1\" class=\"dataframe\">\n",
       "  <thead>\n",
       "    <tr style=\"text-align: right;\">\n",
       "      <th></th>\n",
       "      <th>origin</th>\n",
       "      <th>temp</th>\n",
       "      <th>dewp</th>\n",
       "      <th>humid</th>\n",
       "      <th>wind_dir</th>\n",
       "      <th>wind_speed</th>\n",
       "      <th>precip</th>\n",
       "      <th>pressure</th>\n",
       "      <th>visib</th>\n",
       "      <th>time_hour</th>\n",
       "    </tr>\n",
       "  </thead>\n",
       "  <tbody>\n",
       "    <tr>\n",
       "      <th>0</th>\n",
       "      <td>EWR</td>\n",
       "      <td>39.02</td>\n",
       "      <td>26.06</td>\n",
       "      <td>59.37</td>\n",
       "      <td>270.0</td>\n",
       "      <td>10.35702</td>\n",
       "      <td>0.0</td>\n",
       "      <td>1012.0</td>\n",
       "      <td>10.0</td>\n",
       "      <td>2013-01-01 06:00:00+00:00</td>\n",
       "    </tr>\n",
       "    <tr>\n",
       "      <th>1</th>\n",
       "      <td>EWR</td>\n",
       "      <td>39.02</td>\n",
       "      <td>26.96</td>\n",
       "      <td>61.63</td>\n",
       "      <td>250.0</td>\n",
       "      <td>8.05546</td>\n",
       "      <td>0.0</td>\n",
       "      <td>1012.3</td>\n",
       "      <td>10.0</td>\n",
       "      <td>2013-01-01 07:00:00+00:00</td>\n",
       "    </tr>\n",
       "    <tr>\n",
       "      <th>2</th>\n",
       "      <td>EWR</td>\n",
       "      <td>39.02</td>\n",
       "      <td>28.04</td>\n",
       "      <td>64.43</td>\n",
       "      <td>240.0</td>\n",
       "      <td>11.50780</td>\n",
       "      <td>0.0</td>\n",
       "      <td>1012.5</td>\n",
       "      <td>10.0</td>\n",
       "      <td>2013-01-01 08:00:00+00:00</td>\n",
       "    </tr>\n",
       "    <tr>\n",
       "      <th>3</th>\n",
       "      <td>EWR</td>\n",
       "      <td>39.92</td>\n",
       "      <td>28.04</td>\n",
       "      <td>62.21</td>\n",
       "      <td>250.0</td>\n",
       "      <td>12.65858</td>\n",
       "      <td>0.0</td>\n",
       "      <td>1012.2</td>\n",
       "      <td>10.0</td>\n",
       "      <td>2013-01-01 09:00:00+00:00</td>\n",
       "    </tr>\n",
       "    <tr>\n",
       "      <th>4</th>\n",
       "      <td>EWR</td>\n",
       "      <td>39.02</td>\n",
       "      <td>28.04</td>\n",
       "      <td>64.43</td>\n",
       "      <td>260.0</td>\n",
       "      <td>12.65858</td>\n",
       "      <td>0.0</td>\n",
       "      <td>1011.9</td>\n",
       "      <td>10.0</td>\n",
       "      <td>2013-01-01 10:00:00+00:00</td>\n",
       "    </tr>\n",
       "  </tbody>\n",
       "</table>\n",
       "</div>"
      ],
      "text/plain": [
       "  origin   temp   dewp  humid  wind_dir  wind_speed  precip  pressure  visib  \\\n",
       "0    EWR  39.02  26.06  59.37     270.0    10.35702     0.0    1012.0   10.0   \n",
       "1    EWR  39.02  26.96  61.63     250.0     8.05546     0.0    1012.3   10.0   \n",
       "2    EWR  39.02  28.04  64.43     240.0    11.50780     0.0    1012.5   10.0   \n",
       "3    EWR  39.92  28.04  62.21     250.0    12.65858     0.0    1012.2   10.0   \n",
       "4    EWR  39.02  28.04  64.43     260.0    12.65858     0.0    1011.9   10.0   \n",
       "\n",
       "                  time_hour  \n",
       "0 2013-01-01 06:00:00+00:00  \n",
       "1 2013-01-01 07:00:00+00:00  \n",
       "2 2013-01-01 08:00:00+00:00  \n",
       "3 2013-01-01 09:00:00+00:00  \n",
       "4 2013-01-01 10:00:00+00:00  "
      ]
     },
     "execution_count": 56,
     "metadata": {},
     "output_type": "execute_result"
    }
   ],
   "source": [
    "weather.head()"
   ]
  },
  {
   "cell_type": "code",
   "execution_count": 57,
   "id": "ce3548c1",
   "metadata": {},
   "outputs": [
    {
     "data": {
      "text/plain": [
       "(328521, 18)"
      ]
     },
     "execution_count": 57,
     "metadata": {},
     "output_type": "execute_result"
    }
   ],
   "source": [
    "flights = pd.merge(flights, weather,  how='left', left_on=['origin','time_hour'], right_on = ['origin','time_hour'])\n",
    "flights.shape"
   ]
  },
  {
   "cell_type": "code",
   "execution_count": 58,
   "id": "b92512bc",
   "metadata": {},
   "outputs": [],
   "source": [
    "flights = flights.loc[flights['temp'].isnull() == False]"
   ]
  },
  {
   "cell_type": "code",
   "execution_count": 59,
   "id": "dfb5df92",
   "metadata": {},
   "outputs": [
    {
     "data": {
      "text/plain": [
       "0"
      ]
     },
     "execution_count": 59,
     "metadata": {},
     "output_type": "execute_result"
    }
   ],
   "source": [
    "flights.isnull().sum().sum()"
   ]
  },
  {
   "cell_type": "code",
   "execution_count": null,
   "id": "809ee3ff",
   "metadata": {},
   "outputs": [],
   "source": []
  },
  {
   "cell_type": "code",
   "execution_count": null,
   "id": "596e261d",
   "metadata": {},
   "outputs": [],
   "source": []
  },
  {
   "cell_type": "code",
   "execution_count": 60,
   "id": "491f505b",
   "metadata": {},
   "outputs": [
    {
     "data": {
      "text/plain": [
       "tailnum            0\n",
       "year              70\n",
       "type               0\n",
       "manufacturer       0\n",
       "model              0\n",
       "engines            0\n",
       "seats              0\n",
       "speed           3299\n",
       "engine             0\n",
       "dtype: int64"
      ]
     },
     "execution_count": 60,
     "metadata": {},
     "output_type": "execute_result"
    }
   ],
   "source": [
    "planes.isnull().sum()"
   ]
  },
  {
   "cell_type": "code",
   "execution_count": 61,
   "id": "b14eadcd",
   "metadata": {},
   "outputs": [],
   "source": [
    "planes.loc[planes['year'].isnull(), 'year'] = -1.0"
   ]
  },
  {
   "cell_type": "code",
   "execution_count": 62,
   "id": "301cf56f",
   "metadata": {},
   "outputs": [],
   "source": [
    "pl_yrs = planes.groupby('model')['year'].median()\n",
    "planes['year'] = planes.apply(lambda row: pl_yrs[row['model']] if row['year'] == -1 else row['year'], axis=1)\n",
    "planes['year'] = planes['year'].astype('int')"
   ]
  },
  {
   "cell_type": "code",
   "execution_count": 63,
   "id": "42f14cf0",
   "metadata": {},
   "outputs": [
    {
     "data": {
      "text/html": [
       "<div>\n",
       "<style scoped>\n",
       "    .dataframe tbody tr th:only-of-type {\n",
       "        vertical-align: middle;\n",
       "    }\n",
       "\n",
       "    .dataframe tbody tr th {\n",
       "        vertical-align: top;\n",
       "    }\n",
       "\n",
       "    .dataframe thead th {\n",
       "        text-align: right;\n",
       "    }\n",
       "</style>\n",
       "<table border=\"1\" class=\"dataframe\">\n",
       "  <thead>\n",
       "    <tr style=\"text-align: right;\">\n",
       "      <th></th>\n",
       "      <th>tailnum</th>\n",
       "      <th>year</th>\n",
       "      <th>type</th>\n",
       "      <th>engines</th>\n",
       "      <th>seats</th>\n",
       "      <th>engine</th>\n",
       "    </tr>\n",
       "  </thead>\n",
       "  <tbody>\n",
       "    <tr>\n",
       "      <th>0</th>\n",
       "      <td>N10156</td>\n",
       "      <td>2004</td>\n",
       "      <td>Fixed wing multi engine</td>\n",
       "      <td>2</td>\n",
       "      <td>55</td>\n",
       "      <td>Turbo-fan</td>\n",
       "    </tr>\n",
       "    <tr>\n",
       "      <th>1</th>\n",
       "      <td>N102UW</td>\n",
       "      <td>1998</td>\n",
       "      <td>Fixed wing multi engine</td>\n",
       "      <td>2</td>\n",
       "      <td>182</td>\n",
       "      <td>Turbo-fan</td>\n",
       "    </tr>\n",
       "    <tr>\n",
       "      <th>2</th>\n",
       "      <td>N103US</td>\n",
       "      <td>1999</td>\n",
       "      <td>Fixed wing multi engine</td>\n",
       "      <td>2</td>\n",
       "      <td>182</td>\n",
       "      <td>Turbo-fan</td>\n",
       "    </tr>\n",
       "    <tr>\n",
       "      <th>3</th>\n",
       "      <td>N104UW</td>\n",
       "      <td>1999</td>\n",
       "      <td>Fixed wing multi engine</td>\n",
       "      <td>2</td>\n",
       "      <td>182</td>\n",
       "      <td>Turbo-fan</td>\n",
       "    </tr>\n",
       "    <tr>\n",
       "      <th>4</th>\n",
       "      <td>N10575</td>\n",
       "      <td>2002</td>\n",
       "      <td>Fixed wing multi engine</td>\n",
       "      <td>2</td>\n",
       "      <td>55</td>\n",
       "      <td>Turbo-fan</td>\n",
       "    </tr>\n",
       "    <tr>\n",
       "      <th>...</th>\n",
       "      <td>...</td>\n",
       "      <td>...</td>\n",
       "      <td>...</td>\n",
       "      <td>...</td>\n",
       "      <td>...</td>\n",
       "      <td>...</td>\n",
       "    </tr>\n",
       "    <tr>\n",
       "      <th>3317</th>\n",
       "      <td>N997AT</td>\n",
       "      <td>2002</td>\n",
       "      <td>Fixed wing multi engine</td>\n",
       "      <td>2</td>\n",
       "      <td>100</td>\n",
       "      <td>Turbo-fan</td>\n",
       "    </tr>\n",
       "    <tr>\n",
       "      <th>3318</th>\n",
       "      <td>N997DL</td>\n",
       "      <td>1992</td>\n",
       "      <td>Fixed wing multi engine</td>\n",
       "      <td>2</td>\n",
       "      <td>142</td>\n",
       "      <td>Turbo-fan</td>\n",
       "    </tr>\n",
       "    <tr>\n",
       "      <th>3319</th>\n",
       "      <td>N998AT</td>\n",
       "      <td>2002</td>\n",
       "      <td>Fixed wing multi engine</td>\n",
       "      <td>2</td>\n",
       "      <td>100</td>\n",
       "      <td>Turbo-fan</td>\n",
       "    </tr>\n",
       "    <tr>\n",
       "      <th>3320</th>\n",
       "      <td>N998DL</td>\n",
       "      <td>1992</td>\n",
       "      <td>Fixed wing multi engine</td>\n",
       "      <td>2</td>\n",
       "      <td>142</td>\n",
       "      <td>Turbo-jet</td>\n",
       "    </tr>\n",
       "    <tr>\n",
       "      <th>3321</th>\n",
       "      <td>N999DN</td>\n",
       "      <td>1992</td>\n",
       "      <td>Fixed wing multi engine</td>\n",
       "      <td>2</td>\n",
       "      <td>142</td>\n",
       "      <td>Turbo-jet</td>\n",
       "    </tr>\n",
       "  </tbody>\n",
       "</table>\n",
       "<p>3322 rows × 6 columns</p>\n",
       "</div>"
      ],
      "text/plain": [
       "     tailnum  year                     type  engines  seats     engine\n",
       "0     N10156  2004  Fixed wing multi engine        2     55  Turbo-fan\n",
       "1     N102UW  1998  Fixed wing multi engine        2    182  Turbo-fan\n",
       "2     N103US  1999  Fixed wing multi engine        2    182  Turbo-fan\n",
       "3     N104UW  1999  Fixed wing multi engine        2    182  Turbo-fan\n",
       "4     N10575  2002  Fixed wing multi engine        2     55  Turbo-fan\n",
       "...      ...   ...                      ...      ...    ...        ...\n",
       "3317  N997AT  2002  Fixed wing multi engine        2    100  Turbo-fan\n",
       "3318  N997DL  1992  Fixed wing multi engine        2    142  Turbo-fan\n",
       "3319  N998AT  2002  Fixed wing multi engine        2    100  Turbo-fan\n",
       "3320  N998DL  1992  Fixed wing multi engine        2    142  Turbo-jet\n",
       "3321  N999DN  1992  Fixed wing multi engine        2    142  Turbo-jet\n",
       "\n",
       "[3322 rows x 6 columns]"
      ]
     },
     "execution_count": 63,
     "metadata": {},
     "output_type": "execute_result"
    }
   ],
   "source": [
    "planes.drop(['manufacturer', 'model', 'speed'], axis=1, inplace=True)\n",
    "planes"
   ]
  },
  {
   "cell_type": "code",
   "execution_count": 64,
   "id": "a0b6e8a6",
   "metadata": {},
   "outputs": [
    {
     "data": {
      "text/plain": [
       "(327607, 23)"
      ]
     },
     "execution_count": 64,
     "metadata": {},
     "output_type": "execute_result"
    }
   ],
   "source": [
    "flights = pd.merge(flights, planes,  how='left', left_on=['tailnum'], right_on = ['tailnum'])\n",
    "flights.shape"
   ]
  },
  {
   "cell_type": "code",
   "execution_count": 65,
   "id": "8acce5da",
   "metadata": {},
   "outputs": [
    {
     "data": {
      "text/plain": [
       "9         N3ALAA\n",
       "14        N3DUAA\n",
       "18        N542MQ\n",
       "21        N730MQ\n",
       "25        N9EAMQ\n",
       "           ...  \n",
       "327537    N3CUAA\n",
       "327557    N535MQ\n",
       "327564    N528MQ\n",
       "327587    N807MQ\n",
       "327596    N532MQ\n",
       "Name: tailnum, Length: 48418, dtype: object"
      ]
     },
     "execution_count": 65,
     "metadata": {},
     "output_type": "execute_result"
    }
   ],
   "source": [
    "flights.loc[flights['year'].isnull(), 'tailnum']"
   ]
  },
  {
   "cell_type": "code",
   "execution_count": 66,
   "id": "7fffe09c",
   "metadata": {},
   "outputs": [
    {
     "data": {
      "text/html": [
       "<div>\n",
       "<style scoped>\n",
       "    .dataframe tbody tr th:only-of-type {\n",
       "        vertical-align: middle;\n",
       "    }\n",
       "\n",
       "    .dataframe tbody tr th {\n",
       "        vertical-align: top;\n",
       "    }\n",
       "\n",
       "    .dataframe thead th {\n",
       "        text-align: right;\n",
       "    }\n",
       "</style>\n",
       "<table border=\"1\" class=\"dataframe\">\n",
       "  <thead>\n",
       "    <tr style=\"text-align: right;\">\n",
       "      <th></th>\n",
       "      <th>sched_dep_time</th>\n",
       "      <th>dep_delay</th>\n",
       "      <th>carrier</th>\n",
       "      <th>origin</th>\n",
       "      <th>distance</th>\n",
       "      <th>week_day</th>\n",
       "      <th>week_float</th>\n",
       "      <th>sched_travel_time</th>\n",
       "      <th>temp</th>\n",
       "      <th>dewp</th>\n",
       "      <th>...</th>\n",
       "      <th>wind_dir</th>\n",
       "      <th>wind_speed</th>\n",
       "      <th>precip</th>\n",
       "      <th>pressure</th>\n",
       "      <th>visib</th>\n",
       "      <th>year</th>\n",
       "      <th>type</th>\n",
       "      <th>engines</th>\n",
       "      <th>seats</th>\n",
       "      <th>engine</th>\n",
       "    </tr>\n",
       "  </thead>\n",
       "  <tbody>\n",
       "    <tr>\n",
       "      <th>0</th>\n",
       "      <td>315</td>\n",
       "      <td>2</td>\n",
       "      <td>UA</td>\n",
       "      <td>EWR</td>\n",
       "      <td>1400</td>\n",
       "      <td>2</td>\n",
       "      <td>1.142857</td>\n",
       "      <td>184</td>\n",
       "      <td>39.02</td>\n",
       "      <td>28.04</td>\n",
       "      <td>...</td>\n",
       "      <td>260.0</td>\n",
       "      <td>12.65858</td>\n",
       "      <td>0.0</td>\n",
       "      <td>1011.9</td>\n",
       "      <td>10.0</td>\n",
       "      <td>1999.0</td>\n",
       "      <td>Fixed wing multi engine</td>\n",
       "      <td>2.0</td>\n",
       "      <td>149.0</td>\n",
       "      <td>Turbo-fan</td>\n",
       "    </tr>\n",
       "    <tr>\n",
       "      <th>1</th>\n",
       "      <td>329</td>\n",
       "      <td>4</td>\n",
       "      <td>UA</td>\n",
       "      <td>LGA</td>\n",
       "      <td>1416</td>\n",
       "      <td>2</td>\n",
       "      <td>1.142857</td>\n",
       "      <td>181</td>\n",
       "      <td>39.92</td>\n",
       "      <td>24.98</td>\n",
       "      <td>...</td>\n",
       "      <td>250.0</td>\n",
       "      <td>14.96014</td>\n",
       "      <td>0.0</td>\n",
       "      <td>1011.4</td>\n",
       "      <td>10.0</td>\n",
       "      <td>1998.0</td>\n",
       "      <td>Fixed wing multi engine</td>\n",
       "      <td>2.0</td>\n",
       "      <td>149.0</td>\n",
       "      <td>Turbo-fan</td>\n",
       "    </tr>\n",
       "    <tr>\n",
       "      <th>2</th>\n",
       "      <td>340</td>\n",
       "      <td>2</td>\n",
       "      <td>AA</td>\n",
       "      <td>JFK</td>\n",
       "      <td>1089</td>\n",
       "      <td>2</td>\n",
       "      <td>1.142857</td>\n",
       "      <td>190</td>\n",
       "      <td>39.02</td>\n",
       "      <td>26.96</td>\n",
       "      <td>...</td>\n",
       "      <td>260.0</td>\n",
       "      <td>14.96014</td>\n",
       "      <td>0.0</td>\n",
       "      <td>1012.1</td>\n",
       "      <td>10.0</td>\n",
       "      <td>1990.0</td>\n",
       "      <td>Fixed wing multi engine</td>\n",
       "      <td>2.0</td>\n",
       "      <td>178.0</td>\n",
       "      <td>Turbo-fan</td>\n",
       "    </tr>\n",
       "    <tr>\n",
       "      <th>3</th>\n",
       "      <td>345</td>\n",
       "      <td>-1</td>\n",
       "      <td>B6</td>\n",
       "      <td>JFK</td>\n",
       "      <td>1576</td>\n",
       "      <td>2</td>\n",
       "      <td>1.142857</td>\n",
       "      <td>277</td>\n",
       "      <td>39.02</td>\n",
       "      <td>26.96</td>\n",
       "      <td>...</td>\n",
       "      <td>260.0</td>\n",
       "      <td>14.96014</td>\n",
       "      <td>0.0</td>\n",
       "      <td>1012.1</td>\n",
       "      <td>10.0</td>\n",
       "      <td>2012.0</td>\n",
       "      <td>Fixed wing multi engine</td>\n",
       "      <td>2.0</td>\n",
       "      <td>200.0</td>\n",
       "      <td>Turbo-fan</td>\n",
       "    </tr>\n",
       "    <tr>\n",
       "      <th>4</th>\n",
       "      <td>360</td>\n",
       "      <td>-6</td>\n",
       "      <td>DL</td>\n",
       "      <td>LGA</td>\n",
       "      <td>762</td>\n",
       "      <td>2</td>\n",
       "      <td>1.142857</td>\n",
       "      <td>157</td>\n",
       "      <td>39.92</td>\n",
       "      <td>24.98</td>\n",
       "      <td>...</td>\n",
       "      <td>260.0</td>\n",
       "      <td>16.11092</td>\n",
       "      <td>0.0</td>\n",
       "      <td>1011.7</td>\n",
       "      <td>10.0</td>\n",
       "      <td>1991.0</td>\n",
       "      <td>Fixed wing multi engine</td>\n",
       "      <td>2.0</td>\n",
       "      <td>178.0</td>\n",
       "      <td>Turbo-fan</td>\n",
       "    </tr>\n",
       "  </tbody>\n",
       "</table>\n",
       "<p>5 rows × 21 columns</p>\n",
       "</div>"
      ],
      "text/plain": [
       "   sched_dep_time  dep_delay carrier origin  distance  week_day  week_float  \\\n",
       "0             315          2      UA    EWR      1400         2    1.142857   \n",
       "1             329          4      UA    LGA      1416         2    1.142857   \n",
       "2             340          2      AA    JFK      1089         2    1.142857   \n",
       "3             345         -1      B6    JFK      1576         2    1.142857   \n",
       "4             360         -6      DL    LGA       762         2    1.142857   \n",
       "\n",
       "   sched_travel_time   temp   dewp  ...  wind_dir  wind_speed  precip  \\\n",
       "0                184  39.02  28.04  ...     260.0    12.65858     0.0   \n",
       "1                181  39.92  24.98  ...     250.0    14.96014     0.0   \n",
       "2                190  39.02  26.96  ...     260.0    14.96014     0.0   \n",
       "3                277  39.02  26.96  ...     260.0    14.96014     0.0   \n",
       "4                157  39.92  24.98  ...     260.0    16.11092     0.0   \n",
       "\n",
       "   pressure  visib    year                     type engines  seats     engine  \n",
       "0    1011.9   10.0  1999.0  Fixed wing multi engine     2.0  149.0  Turbo-fan  \n",
       "1    1011.4   10.0  1998.0  Fixed wing multi engine     2.0  149.0  Turbo-fan  \n",
       "2    1012.1   10.0  1990.0  Fixed wing multi engine     2.0  178.0  Turbo-fan  \n",
       "3    1012.1   10.0  2012.0  Fixed wing multi engine     2.0  200.0  Turbo-fan  \n",
       "4    1011.7   10.0  1991.0  Fixed wing multi engine     2.0  178.0  Turbo-fan  \n",
       "\n",
       "[5 rows x 21 columns]"
      ]
     },
     "execution_count": 66,
     "metadata": {},
     "output_type": "execute_result"
    }
   ],
   "source": [
    "flights.drop(['tailnum', 'time_hour'], axis=1, inplace=True)\n",
    "flights.head()"
   ]
  },
  {
   "cell_type": "code",
   "execution_count": 236,
   "id": "7b913a0c",
   "metadata": {},
   "outputs": [],
   "source": [
    "flights = flights.loc[flights['year'].isnull() == False]"
   ]
  },
  {
   "cell_type": "code",
   "execution_count": 237,
   "id": "0d040625",
   "metadata": {},
   "outputs": [
    {
     "ename": "KeyError",
     "evalue": "\"['carrier'] not found in axis\"",
     "output_type": "error",
     "traceback": [
      "\u001b[1;31m---------------------------------------------------------------------------\u001b[0m",
      "\u001b[1;31mKeyError\u001b[0m                                  Traceback (most recent call last)",
      "Cell \u001b[1;32mIn[237], line 2\u001b[0m\n\u001b[0;32m      1\u001b[0m \u001b[38;5;66;03m# I have tried to keep carrier data... but execution was taking tooooooo long... so removing it instead\u001b[39;00m\n\u001b[1;32m----> 2\u001b[0m flights\u001b[38;5;241m.\u001b[39mdrop(\u001b[38;5;124m'\u001b[39m\u001b[38;5;124mcarrier\u001b[39m\u001b[38;5;124m'\u001b[39m, axis\u001b[38;5;241m=\u001b[39m\u001b[38;5;241m1\u001b[39m, inplace\u001b[38;5;241m=\u001b[39m\u001b[38;5;28;01mTrue\u001b[39;00m)\n",
      "File \u001b[1;32m~\\anaconda3\\Lib\\site-packages\\pandas\\core\\frame.py:5258\u001b[0m, in \u001b[0;36mDataFrame.drop\u001b[1;34m(self, labels, axis, index, columns, level, inplace, errors)\u001b[0m\n\u001b[0;32m   5110\u001b[0m \u001b[38;5;28;01mdef\u001b[39;00m \u001b[38;5;21mdrop\u001b[39m(\n\u001b[0;32m   5111\u001b[0m     \u001b[38;5;28mself\u001b[39m,\n\u001b[0;32m   5112\u001b[0m     labels: IndexLabel \u001b[38;5;241m=\u001b[39m \u001b[38;5;28;01mNone\u001b[39;00m,\n\u001b[1;32m   (...)\u001b[0m\n\u001b[0;32m   5119\u001b[0m     errors: IgnoreRaise \u001b[38;5;241m=\u001b[39m \u001b[38;5;124m\"\u001b[39m\u001b[38;5;124mraise\u001b[39m\u001b[38;5;124m\"\u001b[39m,\n\u001b[0;32m   5120\u001b[0m ) \u001b[38;5;241m-\u001b[39m\u001b[38;5;241m>\u001b[39m DataFrame \u001b[38;5;241m|\u001b[39m \u001b[38;5;28;01mNone\u001b[39;00m:\n\u001b[0;32m   5121\u001b[0m \u001b[38;5;250m    \u001b[39m\u001b[38;5;124;03m\"\"\"\u001b[39;00m\n\u001b[0;32m   5122\u001b[0m \u001b[38;5;124;03m    Drop specified labels from rows or columns.\u001b[39;00m\n\u001b[0;32m   5123\u001b[0m \n\u001b[1;32m   (...)\u001b[0m\n\u001b[0;32m   5256\u001b[0m \u001b[38;5;124;03m            weight  1.0     0.8\u001b[39;00m\n\u001b[0;32m   5257\u001b[0m \u001b[38;5;124;03m    \"\"\"\u001b[39;00m\n\u001b[1;32m-> 5258\u001b[0m     \u001b[38;5;28;01mreturn\u001b[39;00m \u001b[38;5;28msuper\u001b[39m()\u001b[38;5;241m.\u001b[39mdrop(\n\u001b[0;32m   5259\u001b[0m         labels\u001b[38;5;241m=\u001b[39mlabels,\n\u001b[0;32m   5260\u001b[0m         axis\u001b[38;5;241m=\u001b[39maxis,\n\u001b[0;32m   5261\u001b[0m         index\u001b[38;5;241m=\u001b[39mindex,\n\u001b[0;32m   5262\u001b[0m         columns\u001b[38;5;241m=\u001b[39mcolumns,\n\u001b[0;32m   5263\u001b[0m         level\u001b[38;5;241m=\u001b[39mlevel,\n\u001b[0;32m   5264\u001b[0m         inplace\u001b[38;5;241m=\u001b[39minplace,\n\u001b[0;32m   5265\u001b[0m         errors\u001b[38;5;241m=\u001b[39merrors,\n\u001b[0;32m   5266\u001b[0m     )\n",
      "File \u001b[1;32m~\\anaconda3\\Lib\\site-packages\\pandas\\core\\generic.py:4549\u001b[0m, in \u001b[0;36mNDFrame.drop\u001b[1;34m(self, labels, axis, index, columns, level, inplace, errors)\u001b[0m\n\u001b[0;32m   4547\u001b[0m \u001b[38;5;28;01mfor\u001b[39;00m axis, labels \u001b[38;5;129;01min\u001b[39;00m axes\u001b[38;5;241m.\u001b[39mitems():\n\u001b[0;32m   4548\u001b[0m     \u001b[38;5;28;01mif\u001b[39;00m labels \u001b[38;5;129;01mis\u001b[39;00m \u001b[38;5;129;01mnot\u001b[39;00m \u001b[38;5;28;01mNone\u001b[39;00m:\n\u001b[1;32m-> 4549\u001b[0m         obj \u001b[38;5;241m=\u001b[39m obj\u001b[38;5;241m.\u001b[39m_drop_axis(labels, axis, level\u001b[38;5;241m=\u001b[39mlevel, errors\u001b[38;5;241m=\u001b[39merrors)\n\u001b[0;32m   4551\u001b[0m \u001b[38;5;28;01mif\u001b[39;00m inplace:\n\u001b[0;32m   4552\u001b[0m     \u001b[38;5;28mself\u001b[39m\u001b[38;5;241m.\u001b[39m_update_inplace(obj)\n",
      "File \u001b[1;32m~\\anaconda3\\Lib\\site-packages\\pandas\\core\\generic.py:4591\u001b[0m, in \u001b[0;36mNDFrame._drop_axis\u001b[1;34m(self, labels, axis, level, errors, only_slice)\u001b[0m\n\u001b[0;32m   4589\u001b[0m         new_axis \u001b[38;5;241m=\u001b[39m axis\u001b[38;5;241m.\u001b[39mdrop(labels, level\u001b[38;5;241m=\u001b[39mlevel, errors\u001b[38;5;241m=\u001b[39merrors)\n\u001b[0;32m   4590\u001b[0m     \u001b[38;5;28;01melse\u001b[39;00m:\n\u001b[1;32m-> 4591\u001b[0m         new_axis \u001b[38;5;241m=\u001b[39m axis\u001b[38;5;241m.\u001b[39mdrop(labels, errors\u001b[38;5;241m=\u001b[39merrors)\n\u001b[0;32m   4592\u001b[0m     indexer \u001b[38;5;241m=\u001b[39m axis\u001b[38;5;241m.\u001b[39mget_indexer(new_axis)\n\u001b[0;32m   4594\u001b[0m \u001b[38;5;66;03m# Case for non-unique axis\u001b[39;00m\n\u001b[0;32m   4595\u001b[0m \u001b[38;5;28;01melse\u001b[39;00m:\n",
      "File \u001b[1;32m~\\anaconda3\\Lib\\site-packages\\pandas\\core\\indexes\\base.py:6699\u001b[0m, in \u001b[0;36mIndex.drop\u001b[1;34m(self, labels, errors)\u001b[0m\n\u001b[0;32m   6697\u001b[0m \u001b[38;5;28;01mif\u001b[39;00m mask\u001b[38;5;241m.\u001b[39many():\n\u001b[0;32m   6698\u001b[0m     \u001b[38;5;28;01mif\u001b[39;00m errors \u001b[38;5;241m!=\u001b[39m \u001b[38;5;124m\"\u001b[39m\u001b[38;5;124mignore\u001b[39m\u001b[38;5;124m\"\u001b[39m:\n\u001b[1;32m-> 6699\u001b[0m         \u001b[38;5;28;01mraise\u001b[39;00m \u001b[38;5;167;01mKeyError\u001b[39;00m(\u001b[38;5;124mf\u001b[39m\u001b[38;5;124m\"\u001b[39m\u001b[38;5;132;01m{\u001b[39;00m\u001b[38;5;28mlist\u001b[39m(labels[mask])\u001b[38;5;132;01m}\u001b[39;00m\u001b[38;5;124m not found in axis\u001b[39m\u001b[38;5;124m\"\u001b[39m)\n\u001b[0;32m   6700\u001b[0m     indexer \u001b[38;5;241m=\u001b[39m indexer[\u001b[38;5;241m~\u001b[39mmask]\n\u001b[0;32m   6701\u001b[0m \u001b[38;5;28;01mreturn\u001b[39;00m \u001b[38;5;28mself\u001b[39m\u001b[38;5;241m.\u001b[39mdelete(indexer)\n",
      "\u001b[1;31mKeyError\u001b[0m: \"['carrier'] not found in axis\""
     ]
    }
   ],
   "source": [
    "# I have tried to keep carrier data... but execution was taking tooooooo long... so removing it instead\n",
    "flights.drop('carrier', axis=1, inplace=True)"
   ]
  },
  {
   "cell_type": "code",
   "execution_count": 238,
   "id": "64628e4b",
   "metadata": {},
   "outputs": [
    {
     "data": {
      "text/plain": [
       "(279189, 26)"
      ]
     },
     "execution_count": 238,
     "metadata": {},
     "output_type": "execute_result"
    }
   ],
   "source": [
    "flights = pd.get_dummies(flights, drop_first=True)\n",
    "flights.shape"
   ]
  },
  {
   "cell_type": "code",
   "execution_count": 239,
   "id": "83e72c49",
   "metadata": {},
   "outputs": [
    {
     "data": {
      "text/plain": [
       "0"
      ]
     },
     "execution_count": 239,
     "metadata": {},
     "output_type": "execute_result"
    }
   ],
   "source": [
    "flights.isnull().sum().sum()"
   ]
  },
  {
   "cell_type": "code",
   "execution_count": null,
   "id": "7fc258a7",
   "metadata": {},
   "outputs": [],
   "source": []
  },
  {
   "cell_type": "code",
   "execution_count": null,
   "id": "9298962e",
   "metadata": {},
   "outputs": [],
   "source": []
  },
  {
   "cell_type": "code",
   "execution_count": 71,
   "id": "d13b4bfc",
   "metadata": {},
   "outputs": [],
   "source": [
    "delay_time_threshold = 10\n",
    "flights['delayed'] = flights['dep_delay'].map(lambda time : 1 if time > delay_time_threshold else 0)\n",
    "flights.drop('dep_delay', axis=1, inplace=True)"
   ]
  },
  {
   "cell_type": "code",
   "execution_count": 72,
   "id": "9be9b247",
   "metadata": {},
   "outputs": [
    {
     "data": {
      "text/plain": [
       "((279189, 25), (279189,))"
      ]
     },
     "execution_count": 72,
     "metadata": {},
     "output_type": "execute_result"
    }
   ],
   "source": [
    "X = flights.drop('delayed', axis=1)\n",
    "y = flights['delayed']\n",
    "X.shape, y.shape"
   ]
  },
  {
   "cell_type": "code",
   "execution_count": 73,
   "id": "b1863b07",
   "metadata": {},
   "outputs": [
    {
     "data": {
      "text/plain": [
       "((251270, 25), (27919, 25), (251270,), (27919,))"
      ]
     },
     "execution_count": 73,
     "metadata": {},
     "output_type": "execute_result"
    }
   ],
   "source": [
    "X_train, X_test, y_train, y_test = train_test_split(X, y, test_size=0.1, random_state=2021, stratify=y)\n",
    "X_train.shape, X_test.shape, y_train.shape, y_test.shape"
   ]
  },
  {
   "cell_type": "code",
   "execution_count": 74,
   "id": "2625c23b",
   "metadata": {},
   "outputs": [],
   "source": [
    "sc = StandardScaler()\n",
    "X_train_sc = pd.DataFrame(sc.fit_transform(X_train), index=X_train.index, columns=X_train.columns)\n",
    "X_test_sc = pd.DataFrame(sc.transform(X_test), index=X_test.index, columns=X_test.columns)"
   ]
  },
  {
   "cell_type": "code",
   "execution_count": 81,
   "id": "436c2279",
   "metadata": {},
   "outputs": [
    {
     "data": {
      "text/html": [
       "<div>\n",
       "<style scoped>\n",
       "    .dataframe tbody tr th:only-of-type {\n",
       "        vertical-align: middle;\n",
       "    }\n",
       "\n",
       "    .dataframe tbody tr th {\n",
       "        vertical-align: top;\n",
       "    }\n",
       "\n",
       "    .dataframe thead th {\n",
       "        text-align: right;\n",
       "    }\n",
       "</style>\n",
       "<table border=\"1\" class=\"dataframe\">\n",
       "  <thead>\n",
       "    <tr style=\"text-align: right;\">\n",
       "      <th></th>\n",
       "      <th>sched_dep_time</th>\n",
       "      <th>distance</th>\n",
       "      <th>week_day</th>\n",
       "      <th>week_float</th>\n",
       "      <th>sched_travel_time</th>\n",
       "      <th>temp</th>\n",
       "      <th>dewp</th>\n",
       "      <th>humid</th>\n",
       "      <th>wind_dir</th>\n",
       "      <th>wind_speed</th>\n",
       "      <th>...</th>\n",
       "      <th>seats</th>\n",
       "      <th>origin_JFK</th>\n",
       "      <th>origin_LGA</th>\n",
       "      <th>type_Fixed wing single engine</th>\n",
       "      <th>type_Rotorcraft</th>\n",
       "      <th>engine_Reciprocating</th>\n",
       "      <th>engine_Turbo-fan</th>\n",
       "      <th>engine_Turbo-jet</th>\n",
       "      <th>engine_Turbo-prop</th>\n",
       "      <th>engine_Turbo-shaft</th>\n",
       "    </tr>\n",
       "  </thead>\n",
       "  <tbody>\n",
       "    <tr>\n",
       "      <th>243586</th>\n",
       "      <td>781</td>\n",
       "      <td>199</td>\n",
       "      <td>1</td>\n",
       "      <td>27.000000</td>\n",
       "      <td>70</td>\n",
       "      <td>75.92</td>\n",
       "      <td>73.04</td>\n",
       "      <td>90.80</td>\n",
       "      <td>140.0</td>\n",
       "      <td>6.90468</td>\n",
       "      <td>...</td>\n",
       "      <td>55.0</td>\n",
       "      <td>False</td>\n",
       "      <td>False</td>\n",
       "      <td>False</td>\n",
       "      <td>False</td>\n",
       "      <td>False</td>\n",
       "      <td>True</td>\n",
       "      <td>False</td>\n",
       "      <td>False</td>\n",
       "      <td>False</td>\n",
       "    </tr>\n",
       "    <tr>\n",
       "      <th>292265</th>\n",
       "      <td>1246</td>\n",
       "      <td>416</td>\n",
       "      <td>4</td>\n",
       "      <td>34.428571</td>\n",
       "      <td>102</td>\n",
       "      <td>75.20</td>\n",
       "      <td>69.80</td>\n",
       "      <td>83.32</td>\n",
       "      <td>220.0</td>\n",
       "      <td>8.05546</td>\n",
       "      <td>...</td>\n",
       "      <td>55.0</td>\n",
       "      <td>False</td>\n",
       "      <td>False</td>\n",
       "      <td>False</td>\n",
       "      <td>False</td>\n",
       "      <td>False</td>\n",
       "      <td>True</td>\n",
       "      <td>False</td>\n",
       "      <td>False</td>\n",
       "      <td>False</td>\n",
       "    </tr>\n",
       "    <tr>\n",
       "      <th>213334</th>\n",
       "      <td>659</td>\n",
       "      <td>1400</td>\n",
       "      <td>3</td>\n",
       "      <td>22.285714</td>\n",
       "      <td>161</td>\n",
       "      <td>69.98</td>\n",
       "      <td>64.04</td>\n",
       "      <td>82.86</td>\n",
       "      <td>230.0</td>\n",
       "      <td>6.90468</td>\n",
       "      <td>...</td>\n",
       "      <td>179.0</td>\n",
       "      <td>False</td>\n",
       "      <td>False</td>\n",
       "      <td>False</td>\n",
       "      <td>False</td>\n",
       "      <td>False</td>\n",
       "      <td>False</td>\n",
       "      <td>True</td>\n",
       "      <td>False</td>\n",
       "      <td>False</td>\n",
       "    </tr>\n",
       "    <tr>\n",
       "      <th>249458</th>\n",
       "      <td>510</td>\n",
       "      <td>419</td>\n",
       "      <td>1</td>\n",
       "      <td>28.000000</td>\n",
       "      <td>105</td>\n",
       "      <td>78.98</td>\n",
       "      <td>66.02</td>\n",
       "      <td>64.54</td>\n",
       "      <td>310.0</td>\n",
       "      <td>10.35702</td>\n",
       "      <td>...</td>\n",
       "      <td>22.0</td>\n",
       "      <td>False</td>\n",
       "      <td>True</td>\n",
       "      <td>False</td>\n",
       "      <td>False</td>\n",
       "      <td>False</td>\n",
       "      <td>False</td>\n",
       "      <td>True</td>\n",
       "      <td>False</td>\n",
       "      <td>False</td>\n",
       "    </tr>\n",
       "    <tr>\n",
       "      <th>276366</th>\n",
       "      <td>420</td>\n",
       "      <td>1076</td>\n",
       "      <td>2</td>\n",
       "      <td>32.142857</td>\n",
       "      <td>189</td>\n",
       "      <td>68.00</td>\n",
       "      <td>57.92</td>\n",
       "      <td>70.15</td>\n",
       "      <td>50.0</td>\n",
       "      <td>4.60312</td>\n",
       "      <td>...</td>\n",
       "      <td>142.0</td>\n",
       "      <td>False</td>\n",
       "      <td>True</td>\n",
       "      <td>False</td>\n",
       "      <td>False</td>\n",
       "      <td>False</td>\n",
       "      <td>True</td>\n",
       "      <td>False</td>\n",
       "      <td>False</td>\n",
       "      <td>False</td>\n",
       "    </tr>\n",
       "  </tbody>\n",
       "</table>\n",
       "<p>5 rows × 25 columns</p>\n",
       "</div>"
      ],
      "text/plain": [
       "        sched_dep_time  distance  week_day  week_float  sched_travel_time  \\\n",
       "243586             781       199         1   27.000000                 70   \n",
       "292265            1246       416         4   34.428571                102   \n",
       "213334             659      1400         3   22.285714                161   \n",
       "249458             510       419         1   28.000000                105   \n",
       "276366             420      1076         2   32.142857                189   \n",
       "\n",
       "         temp   dewp  humid  wind_dir  wind_speed  ...  seats  origin_JFK  \\\n",
       "243586  75.92  73.04  90.80     140.0     6.90468  ...   55.0       False   \n",
       "292265  75.20  69.80  83.32     220.0     8.05546  ...   55.0       False   \n",
       "213334  69.98  64.04  82.86     230.0     6.90468  ...  179.0       False   \n",
       "249458  78.98  66.02  64.54     310.0    10.35702  ...   22.0       False   \n",
       "276366  68.00  57.92  70.15      50.0     4.60312  ...  142.0       False   \n",
       "\n",
       "        origin_LGA  type_Fixed wing single engine  type_Rotorcraft  \\\n",
       "243586       False                          False            False   \n",
       "292265       False                          False            False   \n",
       "213334       False                          False            False   \n",
       "249458        True                          False            False   \n",
       "276366        True                          False            False   \n",
       "\n",
       "        engine_Reciprocating  engine_Turbo-fan  engine_Turbo-jet  \\\n",
       "243586                 False              True             False   \n",
       "292265                 False              True             False   \n",
       "213334                 False             False              True   \n",
       "249458                 False             False              True   \n",
       "276366                 False              True             False   \n",
       "\n",
       "        engine_Turbo-prop  engine_Turbo-shaft  \n",
       "243586              False               False  \n",
       "292265              False               False  \n",
       "213334              False               False  \n",
       "249458              False               False  \n",
       "276366              False               False  \n",
       "\n",
       "[5 rows x 25 columns]"
      ]
     },
     "execution_count": 81,
     "metadata": {},
     "output_type": "execute_result"
    }
   ],
   "source": [
    "X_test.head()"
   ]
  },
  {
   "cell_type": "code",
   "execution_count": 82,
   "id": "be7a470e",
   "metadata": {},
   "outputs": [
    {
     "data": {
      "text/html": [
       "<div>\n",
       "<style scoped>\n",
       "    .dataframe tbody tr th:only-of-type {\n",
       "        vertical-align: middle;\n",
       "    }\n",
       "\n",
       "    .dataframe tbody tr th {\n",
       "        vertical-align: top;\n",
       "    }\n",
       "\n",
       "    .dataframe thead th {\n",
       "        text-align: right;\n",
       "    }\n",
       "</style>\n",
       "<table border=\"1\" class=\"dataframe\">\n",
       "  <thead>\n",
       "    <tr style=\"text-align: right;\">\n",
       "      <th></th>\n",
       "      <th>sched_dep_time</th>\n",
       "      <th>distance</th>\n",
       "      <th>week_day</th>\n",
       "      <th>week_float</th>\n",
       "      <th>sched_travel_time</th>\n",
       "      <th>temp</th>\n",
       "      <th>dewp</th>\n",
       "      <th>humid</th>\n",
       "      <th>wind_dir</th>\n",
       "      <th>wind_speed</th>\n",
       "      <th>...</th>\n",
       "      <th>seats</th>\n",
       "      <th>origin_JFK</th>\n",
       "      <th>origin_LGA</th>\n",
       "      <th>type_Fixed wing single engine</th>\n",
       "      <th>type_Rotorcraft</th>\n",
       "      <th>engine_Reciprocating</th>\n",
       "      <th>engine_Turbo-fan</th>\n",
       "      <th>engine_Turbo-jet</th>\n",
       "      <th>engine_Turbo-prop</th>\n",
       "      <th>engine_Turbo-shaft</th>\n",
       "    </tr>\n",
       "  </thead>\n",
       "  <tbody>\n",
       "    <tr>\n",
       "      <th>69841</th>\n",
       "      <td>495</td>\n",
       "      <td>2248</td>\n",
       "      <td>7</td>\n",
       "      <td>46.857143</td>\n",
       "      <td>157</td>\n",
       "      <td>57.02</td>\n",
       "      <td>53.60</td>\n",
       "      <td>93.65</td>\n",
       "      <td>100.0</td>\n",
       "      <td>8.05546</td>\n",
       "      <td>...</td>\n",
       "      <td>178.0</td>\n",
       "      <td>True</td>\n",
       "      <td>False</td>\n",
       "      <td>False</td>\n",
       "      <td>False</td>\n",
       "      <td>False</td>\n",
       "      <td>True</td>\n",
       "      <td>False</td>\n",
       "      <td>False</td>\n",
       "      <td>False</td>\n",
       "    </tr>\n",
       "    <tr>\n",
       "      <th>166984</th>\n",
       "      <td>720</td>\n",
       "      <td>541</td>\n",
       "      <td>1</td>\n",
       "      <td>15.000000</td>\n",
       "      <td>114</td>\n",
       "      <td>60.98</td>\n",
       "      <td>42.98</td>\n",
       "      <td>51.48</td>\n",
       "      <td>190.0</td>\n",
       "      <td>10.35702</td>\n",
       "      <td>...</td>\n",
       "      <td>179.0</td>\n",
       "      <td>True</td>\n",
       "      <td>False</td>\n",
       "      <td>False</td>\n",
       "      <td>False</td>\n",
       "      <td>False</td>\n",
       "      <td>True</td>\n",
       "      <td>False</td>\n",
       "      <td>False</td>\n",
       "      <td>False</td>\n",
       "    </tr>\n",
       "    <tr>\n",
       "      <th>132659</th>\n",
       "      <td>929</td>\n",
       "      <td>2227</td>\n",
       "      <td>5</td>\n",
       "      <td>9.571429</td>\n",
       "      <td>166</td>\n",
       "      <td>44.06</td>\n",
       "      <td>24.98</td>\n",
       "      <td>46.73</td>\n",
       "      <td>310.0</td>\n",
       "      <td>12.65858</td>\n",
       "      <td>...</td>\n",
       "      <td>200.0</td>\n",
       "      <td>False</td>\n",
       "      <td>False</td>\n",
       "      <td>False</td>\n",
       "      <td>False</td>\n",
       "      <td>False</td>\n",
       "      <td>True</td>\n",
       "      <td>False</td>\n",
       "      <td>False</td>\n",
       "      <td>False</td>\n",
       "    </tr>\n",
       "    <tr>\n",
       "      <th>224880</th>\n",
       "      <td>1340</td>\n",
       "      <td>1598</td>\n",
       "      <td>1</td>\n",
       "      <td>24.000000</td>\n",
       "      <td>229</td>\n",
       "      <td>66.02</td>\n",
       "      <td>64.94</td>\n",
       "      <td>96.31</td>\n",
       "      <td>170.0</td>\n",
       "      <td>8.05546</td>\n",
       "      <td>...</td>\n",
       "      <td>200.0</td>\n",
       "      <td>True</td>\n",
       "      <td>False</td>\n",
       "      <td>False</td>\n",
       "      <td>False</td>\n",
       "      <td>False</td>\n",
       "      <td>True</td>\n",
       "      <td>False</td>\n",
       "      <td>False</td>\n",
       "      <td>False</td>\n",
       "    </tr>\n",
       "    <tr>\n",
       "      <th>160782</th>\n",
       "      <td>1120</td>\n",
       "      <td>2422</td>\n",
       "      <td>1</td>\n",
       "      <td>14.000000</td>\n",
       "      <td>205</td>\n",
       "      <td>46.94</td>\n",
       "      <td>32.00</td>\n",
       "      <td>55.85</td>\n",
       "      <td>320.0</td>\n",
       "      <td>10.35702</td>\n",
       "      <td>...</td>\n",
       "      <td>189.0</td>\n",
       "      <td>True</td>\n",
       "      <td>False</td>\n",
       "      <td>False</td>\n",
       "      <td>False</td>\n",
       "      <td>False</td>\n",
       "      <td>False</td>\n",
       "      <td>True</td>\n",
       "      <td>False</td>\n",
       "      <td>False</td>\n",
       "    </tr>\n",
       "  </tbody>\n",
       "</table>\n",
       "<p>5 rows × 25 columns</p>\n",
       "</div>"
      ],
      "text/plain": [
       "        sched_dep_time  distance  week_day  week_float  sched_travel_time  \\\n",
       "69841              495      2248         7   46.857143                157   \n",
       "166984             720       541         1   15.000000                114   \n",
       "132659             929      2227         5    9.571429                166   \n",
       "224880            1340      1598         1   24.000000                229   \n",
       "160782            1120      2422         1   14.000000                205   \n",
       "\n",
       "         temp   dewp  humid  wind_dir  wind_speed  ...  seats  origin_JFK  \\\n",
       "69841   57.02  53.60  93.65     100.0     8.05546  ...  178.0        True   \n",
       "166984  60.98  42.98  51.48     190.0    10.35702  ...  179.0        True   \n",
       "132659  44.06  24.98  46.73     310.0    12.65858  ...  200.0       False   \n",
       "224880  66.02  64.94  96.31     170.0     8.05546  ...  200.0        True   \n",
       "160782  46.94  32.00  55.85     320.0    10.35702  ...  189.0        True   \n",
       "\n",
       "        origin_LGA  type_Fixed wing single engine  type_Rotorcraft  \\\n",
       "69841        False                          False            False   \n",
       "166984       False                          False            False   \n",
       "132659       False                          False            False   \n",
       "224880       False                          False            False   \n",
       "160782       False                          False            False   \n",
       "\n",
       "        engine_Reciprocating  engine_Turbo-fan  engine_Turbo-jet  \\\n",
       "69841                  False              True             False   \n",
       "166984                 False              True             False   \n",
       "132659                 False              True             False   \n",
       "224880                 False              True             False   \n",
       "160782                 False             False              True   \n",
       "\n",
       "        engine_Turbo-prop  engine_Turbo-shaft  \n",
       "69841               False               False  \n",
       "166984              False               False  \n",
       "132659              False               False  \n",
       "224880              False               False  \n",
       "160782              False               False  \n",
       "\n",
       "[5 rows x 25 columns]"
      ]
     },
     "execution_count": 82,
     "metadata": {},
     "output_type": "execute_result"
    }
   ],
   "source": [
    "X_train.head()"
   ]
  },
  {
   "cell_type": "code",
   "execution_count": 241,
   "id": "3d642711",
   "metadata": {},
   "outputs": [],
   "source": [
    "from sklearn import metrics\n",
    "from sklearn.metrics import confusion_matrix, ConfusionMatrixDisplay, classification_report, f1_score"
   ]
  },
  {
   "cell_type": "code",
   "execution_count": 242,
   "id": "dbdb1893",
   "metadata": {},
   "outputs": [],
   "source": [
    "scaler = StandardScaler()\n",
    "X_train_scaled = scaler.fit_transform(X_train)\n",
    "X_test_scaled = scaler.transform(X_test)"
   ]
  },
  {
   "cell_type": "code",
   "execution_count": 243,
   "id": "650c0d52",
   "metadata": {},
   "outputs": [],
   "source": [
    "results = pd.DataFrame(columns=[\"Model Name\", \"Accuracy\", \"F1-score\", \"ROC\"])"
   ]
  },
  {
   "cell_type": "code",
   "execution_count": 244,
   "id": "d6528bd7",
   "metadata": {},
   "outputs": [],
   "source": [
    "def draw_roc(actual, probs):\n",
    "    fpr, tpr, thresholds = metrics.roc_curve(actual, probs, drop_intermediate=False)\n",
    "    auc_score = metrics.roc_auc_score(actual, probs)\n",
    "    plt.figure(figsize=(5,5))\n",
    "    plt.plot(fpr, tpr,label=\"ROC Curve (area = %0.2f)\" % auc_score)\n",
    "    plt.plot([0,1], [0,1], \"k--\")\n",
    "    plt.xlim([0.0,1.0])\n",
    "    plt.ylim([0.0,1.05])\n",
    "    plt.xlabel(\"False positive rate or [1 - true Negative rate]\")\n",
    "    plt.ylabel(\"True positive Rate\")\n",
    "    plt.title(\"Receiver operating characteristics\")\n",
    "    plt.legend(loc=\"lower right\")\n",
    "    plt.show()"
   ]
  },
  {
   "cell_type": "markdown",
   "id": "10194a9c",
   "metadata": {},
   "source": [
    "# Logistic Regression"
   ]
  },
  {
   "cell_type": "code",
   "execution_count": 245,
   "id": "87206672",
   "metadata": {},
   "outputs": [],
   "source": [
    "from sklearn.linear_model import LogisticRegression"
   ]
  },
  {
   "cell_type": "code",
   "execution_count": 246,
   "id": "60bb7d9f",
   "metadata": {},
   "outputs": [
    {
     "name": "stderr",
     "output_type": "stream",
     "text": [
      "C:\\Users\\user\\anaconda3\\Lib\\site-packages\\sklearn\\linear_model\\_logistic.py:460: ConvergenceWarning: lbfgs failed to converge (status=1):\n",
      "STOP: TOTAL NO. of ITERATIONS REACHED LIMIT.\n",
      "\n",
      "Increase the number of iterations (max_iter) or scale the data as shown in:\n",
      "    https://scikit-learn.org/stable/modules/preprocessing.html\n",
      "Please also refer to the documentation for alternative solver options:\n",
      "    https://scikit-learn.org/stable/modules/linear_model.html#logistic-regression\n",
      "  n_iter_i = _check_optimize_result(\n"
     ]
    }
   ],
   "source": [
    "logistic = LogisticRegression(C=0.01)\n",
    "logistic_model = logistic.fit(X_train, y_train)"
   ]
  },
  {
   "cell_type": "code",
   "execution_count": 247,
   "id": "d388959d",
   "metadata": {},
   "outputs": [],
   "source": [
    "\n",
    "def display_test_results(model_name, model):\n",
    "    y_test_pred = model.predict(X_test)\n",
    "\n",
    "    # Confusion Matrix\n",
    "\n",
    "    print(\"--------------Confusion Matrix--------------\")\n",
    "    c_matrix =metrics.confusion_matrix(y_test, y_test_pred)\n",
    "    print(c_matrix)\n",
    "\n",
    "    cm_display = ConfusionMatrixDisplay(confusion_matrix=c_matrix)\n",
    "    cm_display.plot(cmap=plt.cm.Blues)\n",
    "    plt.show()\n",
    "\n",
    "    # Classification report:\n",
    "    print(\"--------------Classification Report--------------\")\n",
    "    print(classification_report(y_test, y_test_pred))\n",
    "\n",
    "    print(\"--------------More Specific Classification Report--------------\")\n",
    "    TP = c_matrix[1,1]\n",
    "    TN = c_matrix[0,0]\n",
    "    FP = c_matrix[0,1]\n",
    "    FN = c_matrix[1,0]\n",
    "\n",
    "    #Accuracy\n",
    "    print(\"Accuracy:-\", metrics.accuracy_score(y_test, y_test_pred))\n",
    "\n",
    "\n",
    "    # Sensitivity\n",
    "\n",
    "    print(\"Sensitivity :-\", TP/float(TP+TN))\n",
    "\n",
    "    # Specificity \n",
    "\n",
    "    print(\"Specificity :-\", TN/float(TN+FP))\n",
    "\n",
    "    # f1 Score\n",
    "\n",
    "    print(\"F1-Score :-\", f1_score(y_test, y_test_pred))\n",
    "\n",
    "    # Predicted Probability\n",
    "\n",
    "    y_test_pred_proba = model.predict_proba(X_test)[:, 1]\n",
    "\n",
    "    # roc_auc\n",
    "\n",
    "    print(\"--------------ROC--------------\")\n",
    "    roc_auc = metrics.roc_auc_score(y_test, y_test_pred_proba)\n",
    "\n",
    "    # Plot ROC Curve\n",
    "\n",
    "    draw_roc(y_test, y_test_pred_proba)\n",
    "\n",
    "    # Add all Metrics score in final results store\n",
    "\n",
    "    results.loc[len(results)] = [model_name, metrics.accuracy_score(y_test, y_test_pred), f1_score(y_test, y_test_pred), roc_auc(y_test, y_test_pred)]"
   ]
  },
  {
   "cell_type": "code",
   "execution_count": 208,
   "id": "47fb7dc9",
   "metadata": {},
   "outputs": [
    {
     "name": "stdout",
     "output_type": "stream",
     "text": [
      "--------------Confusion Matrix--------------\n",
      "[[40191  1329]\n",
      " [12694  1624]]\n"
     ]
    },
    {
     "data": {
      "image/png": "[encoded data removed]",
      "text/plain": [
       "<Figure size 640x480 with 2 Axes>"
      ]
     },
     "metadata": {},
     "output_type": "display_data"
    },
    {
     "name": "stdout",
     "output_type": "stream",
     "text": [
      "--------------Classification Report--------------\n",
      "              precision    recall  f1-score   support\n",
      "\n",
      "           0       0.76      0.97      0.85     41520\n",
      "           1       0.55      0.11      0.19     14318\n",
      "\n",
      "    accuracy                           0.75     55838\n",
      "   macro avg       0.65      0.54      0.52     55838\n",
      "weighted avg       0.71      0.75      0.68     55838\n",
      "\n",
      "--------------More Specific Classification Report--------------\n",
      "Accuracy:- 0.7488627816182528\n",
      "Sensitivity :- 0.03883773765395193\n",
      "Specificity :- 0.9679913294797687\n",
      "F1-Score :- 0.18806091135429331\n",
      "--------------ROC--------------\n"
     ]
    },
    {
     "data": {
      "image/png": "[encoded data removed]",
      "text/plain": [
       "<Figure size 500x500 with 1 Axes>"
      ]
     },
     "metadata": {},
     "output_type": "display_data"
    },
    {
     "ename": "TypeError",
     "evalue": "'numpy.float64' object is not callable",
     "output_type": "error",
     "traceback": [
      "\u001b[1;31m---------------------------------------------------------------------------\u001b[0m",
      "\u001b[1;31mTypeError\u001b[0m                                 Traceback (most recent call last)",
      "Cell \u001b[1;32mIn[208], line 1\u001b[0m\n\u001b[1;32m----> 1\u001b[0m display_test_results(\u001b[38;5;124m\"\u001b[39m\u001b[38;5;124mLogisticRegression\u001b[39m\u001b[38;5;124m\"\u001b[39m, logistic_model)\n",
      "Cell \u001b[1;32mIn[207], line 55\u001b[0m, in \u001b[0;36mdisplay_test_results\u001b[1;34m(model_name, model)\u001b[0m\n\u001b[0;32m     51\u001b[0m draw_roc(y_test, y_test_pred_proba)\n\u001b[0;32m     53\u001b[0m \u001b[38;5;66;03m# Add all Metrics score in final results store\u001b[39;00m\n\u001b[1;32m---> 55\u001b[0m results\u001b[38;5;241m.\u001b[39mloc[\u001b[38;5;28mlen\u001b[39m(results)] \u001b[38;5;241m=\u001b[39m [model_name, metrics\u001b[38;5;241m.\u001b[39maccuracy_score(y_test, y_test_pred), f1_score(y_test, y_test_pred), roc_auc(y_test, y_test_pred)]\n",
      "\u001b[1;31mTypeError\u001b[0m: 'numpy.float64' object is not callable"
     ]
    }
   ],
   "source": [
    "display_test_results(\"LogisticRegression\", logistic_model)"
   ]
  },
  {
   "cell_type": "code",
   "execution_count": 209,
   "id": "f49a03d1",
   "metadata": {},
   "outputs": [],
   "source": [
    "def display_test_results(model_name, model):\n",
    "    y_test_pred = model.predict(X_test)\n",
    "\n",
    "    # Confusion Matrix\n",
    "    print(\"--------------Confusion Matrix--------------\")\n",
    "    c_matrix = metrics.confusion_matrix(y_test, y_test_pred)\n",
    "    print(c_matrix)\n",
    "\n",
    "    cm_display = ConfusionMatrixDisplay(confusion_matrix=c_matrix)\n",
    "    cm_display.plot(cmap=plt.cm.Blues)\n",
    "    plt.show()\n",
    "\n",
    "    # Classification report:\n",
    "    print(\"--------------Classification Report--------------\")\n",
    "    print(classification_report(y_test, y_test_pred))\n",
    "\n",
    "    print(\"--------------More Specific Classification Report--------------\")\n",
    "    TP = c_matrix[1, 1]\n",
    "    TN = c_matrix[0, 0]\n",
    "    FP = c_matrix[0, 1]\n",
    "    FN = c_matrix[1, 0]\n",
    "\n",
    "    # Accuracy\n",
    "    print(\"Accuracy:-\", metrics.accuracy_score(y_test, y_test_pred))\n",
    "\n",
    "    # Sensitivity\n",
    "    print(\"Sensitivity :-\", TP / float(TP + TN))\n",
    "\n",
    "    # Specificity\n",
    "    print(\"Specificity :-\", TN / float(TN + FP))\n",
    "\n",
    "    # f1 Score\n",
    "    print(\"F1-Score :-\", f1_score(y_test, y_test_pred))\n",
    "\n",
    "    # Predicted Probability\n",
    "    y_test_pred_proba = model.predict_proba(X_test)[:, 1]\n",
    "\n",
    "    # roc_auc\n",
    "    print(\"--------------ROC--------------\")\n",
    "    roc_auc = metrics.roc_auc_score(y_test, y_test_pred_proba)\n",
    "\n",
    "    # Plot ROC Curve\n",
    "    draw_roc(y_test, y_test_pred_proba)\n",
    "\n",
    "    # Add all Metrics score in final results store\n",
    "    results.loc[len(results)] = [model_name, metrics.accuracy_score(y_test, y_test_pred), f1_score(y_test, y_test_pred), roc_auc]"
   ]
  },
  {
   "cell_type": "code",
   "execution_count": 210,
   "id": "cbaa3eea",
   "metadata": {},
   "outputs": [
    {
     "name": "stdout",
     "output_type": "stream",
     "text": [
      "--------------Confusion Matrix--------------\n",
      "[[40191  1329]\n",
      " [12694  1624]]\n"
     ]
    },
    {
     "data": {
      "image/png": "[encoded data removed]",
      "text/plain": [
       "<Figure size 640x480 with 2 Axes>"
      ]
     },
     "metadata": {},
     "output_type": "display_data"
    },
    {
     "name": "stdout",
     "output_type": "stream",
     "text": [
      "--------------Classification Report--------------\n",
      "              precision    recall  f1-score   support\n",
      "\n",
      "           0       0.76      0.97      0.85     41520\n",
      "           1       0.55      0.11      0.19     14318\n",
      "\n",
      "    accuracy                           0.75     55838\n",
      "   macro avg       0.65      0.54      0.52     55838\n",
      "weighted avg       0.71      0.75      0.68     55838\n",
      "\n",
      "--------------More Specific Classification Report--------------\n",
      "Accuracy:- 0.7488627816182528\n",
      "Sensitivity :- 0.03883773765395193\n",
      "Specificity :- 0.9679913294797687\n",
      "F1-Score :- 0.18806091135429331\n",
      "--------------ROC--------------\n"
     ]
    },
    {
     "data": {
      "image/png": "[encoded data removed]",
      "text/plain": [
       "<Figure size 500x500 with 1 Axes>"
      ]
     },
     "metadata": {},
     "output_type": "display_data"
    }
   ],
   "source": [
    "display_test_results(\"LogisticRegression\", logistic_model)"
   ]
  },
  {
   "cell_type": "code",
   "execution_count": null,
   "id": "2de0711c",
   "metadata": {},
   "outputs": [],
   "source": []
  },
  {
   "cell_type": "markdown",
   "id": "62992757",
   "metadata": {},
   "source": [
    "# XGBoost"
   ]
  },
  {
   "cell_type": "code",
   "execution_count": 211,
   "id": "f99db4a0",
   "metadata": {},
   "outputs": [],
   "source": [
    "params ={ \"learning rate\" : 0.2,\n",
    "         \"max_depth\": 2,\n",
    "         \"n_estimator\": 200,\n",
    "         \"subsample\": 0.9,\n",
    "         \"objective\" : \"binary : logistic\"}"
   ]
  },
  {
   "cell_type": "code",
   "execution_count": 212,
   "id": "66811e3a",
   "metadata": {},
   "outputs": [
    {
     "name": "stdout",
     "output_type": "stream",
     "text": [
      "[20:47:54] WARNING: C:/Users/administrator/workspace/xgboost-win64_release_1.6.0/src/learner.cc:627: \n",
      "Parameters: { \"params\" } might not be used.\n",
      "\n",
      "  This could be a false alarm, with some parameters getting used by language bindings but\n",
      "  then being mistakenly passed down to XGBoost core, or some parameter actually being used\n",
      "  but getting flagged wrongly here. Please open an issue if you find any such cases.\n",
      "\n",
      "\n"
     ]
    },
    {
     "data": {
      "text/html": [
       "<style>#sk-container-id-14 {color: black;}#sk-container-id-14 pre{padding: 0;}#sk-container-id-14 div.sk-toggleable {background-color: white;}#sk-container-id-14 label.sk-toggleable__label {cursor: pointer;display: block;width: 100%;margin-bottom: 0;padding: 0.3em;box-sizing: border-box;text-align: center;}#sk-container-id-14 label.sk-toggleable__label-arrow:before {content: \"▸\";float: left;margin-right: 0.25em;color: #696969;}#sk-container-id-14 label.sk-toggleable__label-arrow:hover:before {color: black;}#sk-container-id-14 div.sk-estimator:hover label.sk-toggleable__label-arrow:before {color: black;}#sk-container-id-14 div.sk-toggleable__content {max-height: 0;max-width: 0;overflow: hidden;text-align: left;background-color: #f0f8ff;}#sk-container-id-14 div.sk-toggleable__content pre {margin: 0.2em;color: black;border-radius: 0.25em;background-color: #f0f8ff;}#sk-container-id-14 input.sk-toggleable__control:checked~div.sk-toggleable__content {max-height: 200px;max-width: 100%;overflow: auto;}#sk-container-id-14 input.sk-toggleable__control:checked~label.sk-toggleable__label-arrow:before {content: \"▾\";}#sk-container-id-14 div.sk-estimator input.sk-toggleable__control:checked~label.sk-toggleable__label {background-color: #d4ebff;}#sk-container-id-14 div.sk-label input.sk-toggleable__control:checked~label.sk-toggleable__label {background-color: #d4ebff;}#sk-container-id-14 input.sk-hidden--visually {border: 0;clip: rect(1px 1px 1px 1px);clip: rect(1px, 1px, 1px, 1px);height: 1px;margin: -1px;overflow: hidden;padding: 0;position: absolute;width: 1px;}#sk-container-id-14 div.sk-estimator {font-family: monospace;background-color: #f0f8ff;border: 1px dotted black;border-radius: 0.25em;box-sizing: border-box;margin-bottom: 0.5em;}#sk-container-id-14 div.sk-estimator:hover {background-color: #d4ebff;}#sk-container-id-14 div.sk-parallel-item::after {content: \"\";width: 100%;border-bottom: 1px solid gray;flex-grow: 1;}#sk-container-id-14 div.sk-label:hover label.sk-toggleable__label {background-color: #d4ebff;}#sk-container-id-14 div.sk-serial::before {content: \"\";position: absolute;border-left: 1px solid gray;box-sizing: border-box;top: 0;bottom: 0;left: 50%;z-index: 0;}#sk-container-id-14 div.sk-serial {display: flex;flex-direction: column;align-items: center;background-color: white;padding-right: 0.2em;padding-left: 0.2em;position: relative;}#sk-container-id-14 div.sk-item {position: relative;z-index: 1;}#sk-container-id-14 div.sk-parallel {display: flex;align-items: stretch;justify-content: center;background-color: white;position: relative;}#sk-container-id-14 div.sk-item::before, #sk-container-id-14 div.sk-parallel-item::before {content: \"\";position: absolute;border-left: 1px solid gray;box-sizing: border-box;top: 0;bottom: 0;left: 50%;z-index: -1;}#sk-container-id-14 div.sk-parallel-item {display: flex;flex-direction: column;z-index: 1;position: relative;background-color: white;}#sk-container-id-14 div.sk-parallel-item:first-child::after {align-self: flex-end;width: 50%;}#sk-container-id-14 div.sk-parallel-item:last-child::after {align-self: flex-start;width: 50%;}#sk-container-id-14 div.sk-parallel-item:only-child::after {width: 0;}#sk-container-id-14 div.sk-dashed-wrapped {border: 1px dashed gray;margin: 0 0.4em 0.5em 0.4em;box-sizing: border-box;padding-bottom: 0.4em;background-color: white;}#sk-container-id-14 div.sk-label label {font-family: monospace;font-weight: bold;display: inline-block;line-height: 1.2em;}#sk-container-id-14 div.sk-label-container {text-align: center;}#sk-container-id-14 div.sk-container {/* jupyter's `normalize.less` sets `[hidden] { display: none; }` but bootstrap.min.css set `[hidden] { display: none !important; }` so we also need the `!important` here to be able to override the default hidden behavior on the sphinx rendered scikit-learn.org. See: https://github.com/scikit-learn/scikit-learn/issues/21755 */display: inline-block !important;position: relative;}#sk-container-id-14 div.sk-text-repr-fallback {display: none;}</style><div id=\"sk-container-id-14\" class=\"sk-top-container\"><div class=\"sk-text-repr-fallback\"><pre>XGBClassifier(base_score=0.5, booster=&#x27;gbtree&#x27;, callbacks=None,\n",
       "              colsample_bylevel=1, colsample_bynode=1, colsample_bytree=1,\n",
       "              early_stopping_rounds=None, enable_categorical=False,\n",
       "              eval_metric=None, gamma=0, gpu_id=-1, grow_policy=&#x27;depthwise&#x27;,\n",
       "              importance_type=None, interaction_constraints=&#x27;&#x27;,\n",
       "              learning_rate=0.300000012, max_bin=256, max_cat_to_onehot=4,\n",
       "              max_delta_step=0, max_depth=6, max_leaves=0, min_child_weight=1,\n",
       "              missing=nan, monotone_constraints=&#x27;()&#x27;, n_estimators=100,\n",
       "              n_jobs=0, num_parallel_tree=1,\n",
       "              params={&#x27;learning rate&#x27;: 0.2, &#x27;max_depth&#x27;: 2, &#x27;n_estimator&#x27;: 200,\n",
       "                      &#x27;objective&#x27;: &#x27;binary : logistic&#x27;, &#x27;subsample&#x27;: 0.9},\n",
       "              predictor=&#x27;auto&#x27;, random_state=0, reg_alpha=0, ...)</pre><b>In a Jupyter environment, please rerun this cell to show the HTML representation or trust the notebook. <br />On GitHub, the HTML representation is unable to render, please try loading this page with nbviewer.org.</b></div><div class=\"sk-container\" hidden><div class=\"sk-item\"><div class=\"sk-estimator sk-toggleable\"><input class=\"sk-toggleable__control sk-hidden--visually\" id=\"sk-estimator-id-14\" type=\"checkbox\" checked><label for=\"sk-estimator-id-14\" class=\"sk-toggleable__label sk-toggleable__label-arrow\">XGBClassifier</label><div class=\"sk-toggleable__content\"><pre>XGBClassifier(base_score=0.5, booster=&#x27;gbtree&#x27;, callbacks=None,\n",
       "              colsample_bylevel=1, colsample_bynode=1, colsample_bytree=1,\n",
       "              early_stopping_rounds=None, enable_categorical=False,\n",
       "              eval_metric=None, gamma=0, gpu_id=-1, grow_policy=&#x27;depthwise&#x27;,\n",
       "              importance_type=None, interaction_constraints=&#x27;&#x27;,\n",
       "              learning_rate=0.300000012, max_bin=256, max_cat_to_onehot=4,\n",
       "              max_delta_step=0, max_depth=6, max_leaves=0, min_child_weight=1,\n",
       "              missing=nan, monotone_constraints=&#x27;()&#x27;, n_estimators=100,\n",
       "              n_jobs=0, num_parallel_tree=1,\n",
       "              params={&#x27;learning rate&#x27;: 0.2, &#x27;max_depth&#x27;: 2, &#x27;n_estimator&#x27;: 200,\n",
       "                      &#x27;objective&#x27;: &#x27;binary : logistic&#x27;, &#x27;subsample&#x27;: 0.9},\n",
       "              predictor=&#x27;auto&#x27;, random_state=0, reg_alpha=0, ...)</pre></div></div></div></div></div>"
      ],
      "text/plain": [
       "XGBClassifier(base_score=0.5, booster='gbtree', callbacks=None,\n",
       "              colsample_bylevel=1, colsample_bynode=1, colsample_bytree=1,\n",
       "              early_stopping_rounds=None, enable_categorical=False,\n",
       "              eval_metric=None, gamma=0, gpu_id=-1, grow_policy='depthwise',\n",
       "              importance_type=None, interaction_constraints='',\n",
       "              learning_rate=0.300000012, max_bin=256, max_cat_to_onehot=4,\n",
       "              max_delta_step=0, max_depth=6, max_leaves=0, min_child_weight=1,\n",
       "              missing=nan, monotone_constraints='()', n_estimators=100,\n",
       "              n_jobs=0, num_parallel_tree=1,\n",
       "              params={'learning rate': 0.2, 'max_depth': 2, 'n_estimator': 200,\n",
       "                      'objective': 'binary : logistic', 'subsample': 0.9},\n",
       "              predictor='auto', random_state=0, reg_alpha=0, ...)"
      ]
     },
     "execution_count": 212,
     "metadata": {},
     "output_type": "execute_result"
    }
   ],
   "source": [
    "xgb_model = XGBClassifier(params=params)\n",
    "xgb_model.fit(X_train, y_train)"
   ]
  },
  {
   "cell_type": "code",
   "execution_count": 213,
   "id": "d88592be",
   "metadata": {},
   "outputs": [
    {
     "name": "stdout",
     "output_type": "stream",
     "text": [
      "--------------Confusion Matrix--------------\n",
      "[[39258  2262]\n",
      " [ 9388  4930]]\n"
     ]
    },
    {
     "data": {
      "image/png": "[encoded data removed]",
      "text/plain": [
       "<Figure size 640x480 with 2 Axes>"
      ]
     },
     "metadata": {},
     "output_type": "display_data"
    },
    {
     "name": "stdout",
     "output_type": "stream",
     "text": [
      "--------------Classification Report--------------\n",
      "              precision    recall  f1-score   support\n",
      "\n",
      "           0       0.81      0.95      0.87     41520\n",
      "           1       0.69      0.34      0.46     14318\n",
      "\n",
      "    accuracy                           0.79     55838\n",
      "   macro avg       0.75      0.64      0.66     55838\n",
      "weighted avg       0.78      0.79      0.77     55838\n",
      "\n",
      "--------------More Specific Classification Report--------------\n",
      "Accuracy:- 0.7913607220889001\n",
      "Sensitivity :- 0.11156875169729338\n",
      "Specificity :- 0.9455202312138729\n",
      "F1-Score :- 0.45839144583914454\n",
      "--------------ROC--------------\n"
     ]
    },
    {
     "data": {
      "image/png": "[encoded data removed]",
      "text/plain": [
       "<Figure size 500x500 with 1 Axes>"
      ]
     },
     "metadata": {},
     "output_type": "display_data"
    }
   ],
   "source": [
    "display_test_results(\"XG Boost\", xgb_model)"
   ]
  },
  {
   "cell_type": "code",
   "execution_count": null,
   "id": "ebbcf86f",
   "metadata": {},
   "outputs": [],
   "source": []
  },
  {
   "cell_type": "markdown",
   "id": "d19039af",
   "metadata": {},
   "source": [
    "# Decision Tree"
   ]
  },
  {
   "cell_type": "code",
   "execution_count": 229,
   "id": "013595b6",
   "metadata": {},
   "outputs": [],
   "source": [
    "from sklearn.tree import DecisionTreeClassifier"
   ]
  },
  {
   "cell_type": "code",
   "execution_count": 230,
   "id": "f7af8448",
   "metadata": {},
   "outputs": [
    {
     "data": {
      "text/html": [
       "<style>#sk-container-id-16 {color: black;}#sk-container-id-16 pre{padding: 0;}#sk-container-id-16 div.sk-toggleable {background-color: white;}#sk-container-id-16 label.sk-toggleable__label {cursor: pointer;display: block;width: 100%;margin-bottom: 0;padding: 0.3em;box-sizing: border-box;text-align: center;}#sk-container-id-16 label.sk-toggleable__label-arrow:before {content: \"▸\";float: left;margin-right: 0.25em;color: #696969;}#sk-container-id-16 label.sk-toggleable__label-arrow:hover:before {color: black;}#sk-container-id-16 div.sk-estimator:hover label.sk-toggleable__label-arrow:before {color: black;}#sk-container-id-16 div.sk-toggleable__content {max-height: 0;max-width: 0;overflow: hidden;text-align: left;background-color: #f0f8ff;}#sk-container-id-16 div.sk-toggleable__content pre {margin: 0.2em;color: black;border-radius: 0.25em;background-color: #f0f8ff;}#sk-container-id-16 input.sk-toggleable__control:checked~div.sk-toggleable__content {max-height: 200px;max-width: 100%;overflow: auto;}#sk-container-id-16 input.sk-toggleable__control:checked~label.sk-toggleable__label-arrow:before {content: \"▾\";}#sk-container-id-16 div.sk-estimator input.sk-toggleable__control:checked~label.sk-toggleable__label {background-color: #d4ebff;}#sk-container-id-16 div.sk-label input.sk-toggleable__control:checked~label.sk-toggleable__label {background-color: #d4ebff;}#sk-container-id-16 input.sk-hidden--visually {border: 0;clip: rect(1px 1px 1px 1px);clip: rect(1px, 1px, 1px, 1px);height: 1px;margin: -1px;overflow: hidden;padding: 0;position: absolute;width: 1px;}#sk-container-id-16 div.sk-estimator {font-family: monospace;background-color: #f0f8ff;border: 1px dotted black;border-radius: 0.25em;box-sizing: border-box;margin-bottom: 0.5em;}#sk-container-id-16 div.sk-estimator:hover {background-color: #d4ebff;}#sk-container-id-16 div.sk-parallel-item::after {content: \"\";width: 100%;border-bottom: 1px solid gray;flex-grow: 1;}#sk-container-id-16 div.sk-label:hover label.sk-toggleable__label {background-color: #d4ebff;}#sk-container-id-16 div.sk-serial::before {content: \"\";position: absolute;border-left: 1px solid gray;box-sizing: border-box;top: 0;bottom: 0;left: 50%;z-index: 0;}#sk-container-id-16 div.sk-serial {display: flex;flex-direction: column;align-items: center;background-color: white;padding-right: 0.2em;padding-left: 0.2em;position: relative;}#sk-container-id-16 div.sk-item {position: relative;z-index: 1;}#sk-container-id-16 div.sk-parallel {display: flex;align-items: stretch;justify-content: center;background-color: white;position: relative;}#sk-container-id-16 div.sk-item::before, #sk-container-id-16 div.sk-parallel-item::before {content: \"\";position: absolute;border-left: 1px solid gray;box-sizing: border-box;top: 0;bottom: 0;left: 50%;z-index: -1;}#sk-container-id-16 div.sk-parallel-item {display: flex;flex-direction: column;z-index: 1;position: relative;background-color: white;}#sk-container-id-16 div.sk-parallel-item:first-child::after {align-self: flex-end;width: 50%;}#sk-container-id-16 div.sk-parallel-item:last-child::after {align-self: flex-start;width: 50%;}#sk-container-id-16 div.sk-parallel-item:only-child::after {width: 0;}#sk-container-id-16 div.sk-dashed-wrapped {border: 1px dashed gray;margin: 0 0.4em 0.5em 0.4em;box-sizing: border-box;padding-bottom: 0.4em;background-color: white;}#sk-container-id-16 div.sk-label label {font-family: monospace;font-weight: bold;display: inline-block;line-height: 1.2em;}#sk-container-id-16 div.sk-label-container {text-align: center;}#sk-container-id-16 div.sk-container {/* jupyter's `normalize.less` sets `[hidden] { display: none; }` but bootstrap.min.css set `[hidden] { display: none !important; }` so we also need the `!important` here to be able to override the default hidden behavior on the sphinx rendered scikit-learn.org. See: https://github.com/scikit-learn/scikit-learn/issues/21755 */display: inline-block !important;position: relative;}#sk-container-id-16 div.sk-text-repr-fallback {display: none;}</style><div id=\"sk-container-id-16\" class=\"sk-top-container\"><div class=\"sk-text-repr-fallback\"><pre>DecisionTreeClassifier(max_depth=5, min_samples_leaf=100, min_samples_split=100,\n",
       "                       random_state=100)</pre><b>In a Jupyter environment, please rerun this cell to show the HTML representation or trust the notebook. <br />On GitHub, the HTML representation is unable to render, please try loading this page with nbviewer.org.</b></div><div class=\"sk-container\" hidden><div class=\"sk-item\"><div class=\"sk-estimator sk-toggleable\"><input class=\"sk-toggleable__control sk-hidden--visually\" id=\"sk-estimator-id-16\" type=\"checkbox\" checked><label for=\"sk-estimator-id-16\" class=\"sk-toggleable__label sk-toggleable__label-arrow\">DecisionTreeClassifier</label><div class=\"sk-toggleable__content\"><pre>DecisionTreeClassifier(max_depth=5, min_samples_leaf=100, min_samples_split=100,\n",
       "                       random_state=100)</pre></div></div></div></div></div>"
      ],
      "text/plain": [
       "DecisionTreeClassifier(max_depth=5, min_samples_leaf=100, min_samples_split=100,\n",
       "                       random_state=100)"
      ]
     },
     "execution_count": 230,
     "metadata": {},
     "output_type": "execute_result"
    }
   ],
   "source": [
    "# Model with optimal hyperameters\n",
    "decision_tree_model = DecisionTreeClassifier(criterion= \"gini\",\n",
    "                                             random_state=100,\n",
    "                                             max_depth=5,\n",
    "                                             min_samples_leaf=100,\n",
    "                                             min_samples_split=100)\n",
    "decision_tree_model.fit(X_train, y_train)"
   ]
  },
  {
   "cell_type": "code",
   "execution_count": 235,
   "id": "73675a27",
   "metadata": {},
   "outputs": [
    {
     "data": {
      "text/html": [
       "<div>\n",
       "<style scoped>\n",
       "    .dataframe tbody tr th:only-of-type {\n",
       "        vertical-align: middle;\n",
       "    }\n",
       "\n",
       "    .dataframe tbody tr th {\n",
       "        vertical-align: top;\n",
       "    }\n",
       "\n",
       "    .dataframe thead th {\n",
       "        text-align: right;\n",
       "    }\n",
       "</style>\n",
       "<table border=\"1\" class=\"dataframe\">\n",
       "  <thead>\n",
       "    <tr style=\"text-align: right;\">\n",
       "      <th></th>\n",
       "      <th>Model Name</th>\n",
       "      <th>Accuracy</th>\n",
       "      <th>F1-score</th>\n",
       "      <th>ROC</th>\n",
       "    </tr>\n",
       "  </thead>\n",
       "  <tbody>\n",
       "    <tr>\n",
       "      <th>1</th>\n",
       "      <td>LogisticRegression</td>\n",
       "      <td>0.748863</td>\n",
       "      <td>0.188061</td>\n",
       "      <td>0.694148</td>\n",
       "    </tr>\n",
       "    <tr>\n",
       "      <th>2</th>\n",
       "      <td>XG Boost</td>\n",
       "      <td>0.791361</td>\n",
       "      <td>0.458391</td>\n",
       "      <td>0.775728</td>\n",
       "    </tr>\n",
       "    <tr>\n",
       "      <th>3</th>\n",
       "      <td>Neural Network</td>\n",
       "      <td>0.776335</td>\n",
       "      <td>0.371486</td>\n",
       "      <td>0.746255</td>\n",
       "    </tr>\n",
       "    <tr>\n",
       "      <th>4</th>\n",
       "      <td>K Nearest Neighbors</td>\n",
       "      <td>0.764426</td>\n",
       "      <td>0.455772</td>\n",
       "      <td>0.709163</td>\n",
       "    </tr>\n",
       "    <tr>\n",
       "      <th>5</th>\n",
       "      <td>Random Forest</td>\n",
       "      <td>0.743580</td>\n",
       "      <td>0.000000</td>\n",
       "      <td>0.553440</td>\n",
       "    </tr>\n",
       "    <tr>\n",
       "      <th>6</th>\n",
       "      <td>Decision Tree</td>\n",
       "      <td>0.743580</td>\n",
       "      <td>0.000000</td>\n",
       "      <td>0.500000</td>\n",
       "    </tr>\n",
       "  </tbody>\n",
       "</table>\n",
       "</div>"
      ],
      "text/plain": [
       "            Model Name  Accuracy  F1-score       ROC\n",
       "1   LogisticRegression  0.748863  0.188061  0.694148\n",
       "2             XG Boost  0.791361  0.458391  0.775728\n",
       "3       Neural Network  0.776335  0.371486  0.746255\n",
       "4  K Nearest Neighbors  0.764426  0.455772  0.709163\n",
       "5        Random Forest  0.743580  0.000000  0.553440\n",
       "6        Decision Tree  0.743580  0.000000  0.500000"
      ]
     },
     "execution_count": 235,
     "metadata": {},
     "output_type": "execute_result"
    }
   ],
   "source": [
    "results.sort_values(by=\"ROC\", ascending=False)\n",
    "results\n"
   ]
  },
  {
   "cell_type": "code",
   "execution_count": 248,
   "id": "aa44313b",
   "metadata": {
    "scrolled": true
   },
   "outputs": [
    {
     "name": "stdout",
     "output_type": "stream",
     "text": [
      "--------------Confusion Matrix--------------\n",
      "[[40105  1415]\n",
      " [11945  2373]]\n"
     ]
    },
    {
     "data": {
      "image/png": "[encoded data removed]",
      "text/plain": [
       "<Figure size 640x480 with 2 Axes>"
      ]
     },
     "metadata": {},
     "output_type": "display_data"
    },
    {
     "name": "stdout",
     "output_type": "stream",
     "text": [
      "--------------Classification Report--------------\n",
      "              precision    recall  f1-score   support\n",
      "\n",
      "           0       0.77      0.97      0.86     41520\n",
      "           1       0.63      0.17      0.26     14318\n",
      "\n",
      "    accuracy                           0.76     55838\n",
      "   macro avg       0.70      0.57      0.56     55838\n",
      "weighted avg       0.73      0.76      0.70     55838\n",
      "\n",
      "--------------More Specific Classification Report--------------\n",
      "Accuracy:- 0.7607364160607472\n",
      "Sensitivity :- 0.055864212062714816\n",
      "Specificity :- 0.9659200385356455\n",
      "F1-Score :- 0.2621230531315586\n",
      "--------------ROC--------------\n"
     ]
    },
    {
     "data": {
      "image/png": "[encoded data removed]",
      "text/plain": [
       "<Figure size 500x500 with 1 Axes>"
      ]
     },
     "metadata": {},
     "output_type": "display_data"
    },
    {
     "ename": "TypeError",
     "evalue": "'numpy.float64' object is not callable",
     "output_type": "error",
     "traceback": [
      "\u001b[1;31m---------------------------------------------------------------------------\u001b[0m",
      "\u001b[1;31mTypeError\u001b[0m                                 Traceback (most recent call last)",
      "Cell \u001b[1;32mIn[248], line 1\u001b[0m\n\u001b[1;32m----> 1\u001b[0m display_test_results(\u001b[38;5;124m\"\u001b[39m\u001b[38;5;124mDecision Tree\u001b[39m\u001b[38;5;124m\"\u001b[39m, decision_tree_model)\n",
      "Cell \u001b[1;32mIn[247], line 55\u001b[0m, in \u001b[0;36mdisplay_test_results\u001b[1;34m(model_name, model)\u001b[0m\n\u001b[0;32m     51\u001b[0m draw_roc(y_test, y_test_pred_proba)\n\u001b[0;32m     53\u001b[0m \u001b[38;5;66;03m# Add all Metrics score in final results store\u001b[39;00m\n\u001b[1;32m---> 55\u001b[0m results\u001b[38;5;241m.\u001b[39mloc[\u001b[38;5;28mlen\u001b[39m(results)] \u001b[38;5;241m=\u001b[39m [model_name, metrics\u001b[38;5;241m.\u001b[39maccuracy_score(y_test, y_test_pred), f1_score(y_test, y_test_pred), roc_auc(y_test, y_test_pred)]\n",
      "\u001b[1;31mTypeError\u001b[0m: 'numpy.float64' object is not callable"
     ]
    }
   ],
   "source": [
    "display_test_results(\"Decision Tree\", decision_tree_model)"
   ]
  },
  {
   "cell_type": "code",
   "execution_count": 147,
   "id": "b328e730",
   "metadata": {},
   "outputs": [
    {
     "data": {
      "text/html": [
       "<div>\n",
       "<style scoped>\n",
       "    .dataframe tbody tr th:only-of-type {\n",
       "        vertical-align: middle;\n",
       "    }\n",
       "\n",
       "    .dataframe tbody tr th {\n",
       "        vertical-align: top;\n",
       "    }\n",
       "\n",
       "    .dataframe thead th {\n",
       "        text-align: right;\n",
       "    }\n",
       "</style>\n",
       "<table border=\"1\" class=\"dataframe\">\n",
       "  <thead>\n",
       "    <tr style=\"text-align: right;\">\n",
       "      <th></th>\n",
       "      <th>Model Name</th>\n",
       "      <th>Accuracy</th>\n",
       "      <th>F1-score</th>\n",
       "      <th>ROC</th>\n",
       "    </tr>\n",
       "  </thead>\n",
       "  <tbody>\n",
       "    <tr>\n",
       "      <th>0</th>\n",
       "      <td>LogisticRegression</td>\n",
       "      <td>0.748863</td>\n",
       "      <td>0.188061</td>\n",
       "      <td>0.694148</td>\n",
       "    </tr>\n",
       "    <tr>\n",
       "      <th>1</th>\n",
       "      <td>XG Boost</td>\n",
       "      <td>0.791361</td>\n",
       "      <td>0.458391</td>\n",
       "      <td>0.775728</td>\n",
       "    </tr>\n",
       "    <tr>\n",
       "      <th>2</th>\n",
       "      <td>XG Boost</td>\n",
       "      <td>0.791361</td>\n",
       "      <td>0.458391</td>\n",
       "      <td>0.775728</td>\n",
       "    </tr>\n",
       "    <tr>\n",
       "      <th>3</th>\n",
       "      <td>Decision Tree</td>\n",
       "      <td>0.760736</td>\n",
       "      <td>0.262123</td>\n",
       "      <td>0.703584</td>\n",
       "    </tr>\n",
       "  </tbody>\n",
       "</table>\n",
       "</div>"
      ],
      "text/plain": [
       "           Model Name  Accuracy  F1-score       ROC\n",
       "0  LogisticRegression  0.748863  0.188061  0.694148\n",
       "1            XG Boost  0.791361  0.458391  0.775728\n",
       "2            XG Boost  0.791361  0.458391  0.775728\n",
       "3       Decision Tree  0.760736  0.262123  0.703584"
      ]
     },
     "execution_count": 147,
     "metadata": {},
     "output_type": "execute_result"
    }
   ],
   "source": []
  },
  {
   "cell_type": "markdown",
   "id": "ead0ea7a",
   "metadata": {},
   "source": [
    "# Random Forest"
   ]
  },
  {
   "cell_type": "code",
   "execution_count": 224,
   "id": "82589500",
   "metadata": {},
   "outputs": [],
   "source": [
    "from sklearn.ensemble import RandomForestClassifier"
   ]
  },
  {
   "cell_type": "code",
   "execution_count": 225,
   "id": "25c256c4",
   "metadata": {},
   "outputs": [
    {
     "data": {
      "text/html": [
       "<style>#sk-container-id-15 {color: black;}#sk-container-id-15 pre{padding: 0;}#sk-container-id-15 div.sk-toggleable {background-color: white;}#sk-container-id-15 label.sk-toggleable__label {cursor: pointer;display: block;width: 100%;margin-bottom: 0;padding: 0.3em;box-sizing: border-box;text-align: center;}#sk-container-id-15 label.sk-toggleable__label-arrow:before {content: \"▸\";float: left;margin-right: 0.25em;color: #696969;}#sk-container-id-15 label.sk-toggleable__label-arrow:hover:before {color: black;}#sk-container-id-15 div.sk-estimator:hover label.sk-toggleable__label-arrow:before {color: black;}#sk-container-id-15 div.sk-toggleable__content {max-height: 0;max-width: 0;overflow: hidden;text-align: left;background-color: #f0f8ff;}#sk-container-id-15 div.sk-toggleable__content pre {margin: 0.2em;color: black;border-radius: 0.25em;background-color: #f0f8ff;}#sk-container-id-15 input.sk-toggleable__control:checked~div.sk-toggleable__content {max-height: 200px;max-width: 100%;overflow: auto;}#sk-container-id-15 input.sk-toggleable__control:checked~label.sk-toggleable__label-arrow:before {content: \"▾\";}#sk-container-id-15 div.sk-estimator input.sk-toggleable__control:checked~label.sk-toggleable__label {background-color: #d4ebff;}#sk-container-id-15 div.sk-label input.sk-toggleable__control:checked~label.sk-toggleable__label {background-color: #d4ebff;}#sk-container-id-15 input.sk-hidden--visually {border: 0;clip: rect(1px 1px 1px 1px);clip: rect(1px, 1px, 1px, 1px);height: 1px;margin: -1px;overflow: hidden;padding: 0;position: absolute;width: 1px;}#sk-container-id-15 div.sk-estimator {font-family: monospace;background-color: #f0f8ff;border: 1px dotted black;border-radius: 0.25em;box-sizing: border-box;margin-bottom: 0.5em;}#sk-container-id-15 div.sk-estimator:hover {background-color: #d4ebff;}#sk-container-id-15 div.sk-parallel-item::after {content: \"\";width: 100%;border-bottom: 1px solid gray;flex-grow: 1;}#sk-container-id-15 div.sk-label:hover label.sk-toggleable__label {background-color: #d4ebff;}#sk-container-id-15 div.sk-serial::before {content: \"\";position: absolute;border-left: 1px solid gray;box-sizing: border-box;top: 0;bottom: 0;left: 50%;z-index: 0;}#sk-container-id-15 div.sk-serial {display: flex;flex-direction: column;align-items: center;background-color: white;padding-right: 0.2em;padding-left: 0.2em;position: relative;}#sk-container-id-15 div.sk-item {position: relative;z-index: 1;}#sk-container-id-15 div.sk-parallel {display: flex;align-items: stretch;justify-content: center;background-color: white;position: relative;}#sk-container-id-15 div.sk-item::before, #sk-container-id-15 div.sk-parallel-item::before {content: \"\";position: absolute;border-left: 1px solid gray;box-sizing: border-box;top: 0;bottom: 0;left: 50%;z-index: -1;}#sk-container-id-15 div.sk-parallel-item {display: flex;flex-direction: column;z-index: 1;position: relative;background-color: white;}#sk-container-id-15 div.sk-parallel-item:first-child::after {align-self: flex-end;width: 50%;}#sk-container-id-15 div.sk-parallel-item:last-child::after {align-self: flex-start;width: 50%;}#sk-container-id-15 div.sk-parallel-item:only-child::after {width: 0;}#sk-container-id-15 div.sk-dashed-wrapped {border: 1px dashed gray;margin: 0 0.4em 0.5em 0.4em;box-sizing: border-box;padding-bottom: 0.4em;background-color: white;}#sk-container-id-15 div.sk-label label {font-family: monospace;font-weight: bold;display: inline-block;line-height: 1.2em;}#sk-container-id-15 div.sk-label-container {text-align: center;}#sk-container-id-15 div.sk-container {/* jupyter's `normalize.less` sets `[hidden] { display: none; }` but bootstrap.min.css set `[hidden] { display: none !important; }` so we also need the `!important` here to be able to override the default hidden behavior on the sphinx rendered scikit-learn.org. See: https://github.com/scikit-learn/scikit-learn/issues/21755 */display: inline-block !important;position: relative;}#sk-container-id-15 div.sk-text-repr-fallback {display: none;}</style><div id=\"sk-container-id-15\" class=\"sk-top-container\"><div class=\"sk-text-repr-fallback\"><pre>RandomForestClassifier(max_depth=5, max_features=10, min_samples_leaf=50,\n",
       "                       min_samples_split=50)</pre><b>In a Jupyter environment, please rerun this cell to show the HTML representation or trust the notebook. <br />On GitHub, the HTML representation is unable to render, please try loading this page with nbviewer.org.</b></div><div class=\"sk-container\" hidden><div class=\"sk-item\"><div class=\"sk-estimator sk-toggleable\"><input class=\"sk-toggleable__control sk-hidden--visually\" id=\"sk-estimator-id-15\" type=\"checkbox\" checked><label for=\"sk-estimator-id-15\" class=\"sk-toggleable__label sk-toggleable__label-arrow\">RandomForestClassifier</label><div class=\"sk-toggleable__content\"><pre>RandomForestClassifier(max_depth=5, max_features=10, min_samples_leaf=50,\n",
       "                       min_samples_split=50)</pre></div></div></div></div></div>"
      ],
      "text/plain": [
       "RandomForestClassifier(max_depth=5, max_features=10, min_samples_leaf=50,\n",
       "                       min_samples_split=50)"
      ]
     },
     "execution_count": 225,
     "metadata": {},
     "output_type": "execute_result"
    }
   ],
   "source": [
    "random_forest_model = RandomForestClassifier(bootstrap=True,\n",
    "                                             max_depth=5,\n",
    "                                             min_samples_leaf=50,\n",
    "                                             min_samples_split=50,\n",
    "                                             max_features=10,\n",
    "                                             n_estimators=100)\n",
    "random_forest_model.fit(X_train, y_train)"
   ]
  },
  {
   "cell_type": "code",
   "execution_count": null,
   "id": "0cabbf50",
   "metadata": {},
   "outputs": [],
   "source": []
  },
  {
   "cell_type": "code",
   "execution_count": 228,
   "id": "df8d28f3",
   "metadata": {},
   "outputs": [
    {
     "data": {
      "text/html": [
       "<div>\n",
       "<style scoped>\n",
       "    .dataframe tbody tr th:only-of-type {\n",
       "        vertical-align: middle;\n",
       "    }\n",
       "\n",
       "    .dataframe tbody tr th {\n",
       "        vertical-align: top;\n",
       "    }\n",
       "\n",
       "    .dataframe thead th {\n",
       "        text-align: right;\n",
       "    }\n",
       "</style>\n",
       "<table border=\"1\" class=\"dataframe\">\n",
       "  <thead>\n",
       "    <tr style=\"text-align: right;\">\n",
       "      <th></th>\n",
       "      <th>Model Name</th>\n",
       "      <th>Accuracy</th>\n",
       "      <th>F1-score</th>\n",
       "      <th>ROC</th>\n",
       "    </tr>\n",
       "  </thead>\n",
       "  <tbody>\n",
       "    <tr>\n",
       "      <th>1</th>\n",
       "      <td>LogisticRegression</td>\n",
       "      <td>0.748863</td>\n",
       "      <td>0.188061</td>\n",
       "      <td>0.694148</td>\n",
       "    </tr>\n",
       "    <tr>\n",
       "      <th>2</th>\n",
       "      <td>XG Boost</td>\n",
       "      <td>0.791361</td>\n",
       "      <td>0.458391</td>\n",
       "      <td>0.775728</td>\n",
       "    </tr>\n",
       "    <tr>\n",
       "      <th>3</th>\n",
       "      <td>Neural Network</td>\n",
       "      <td>0.776335</td>\n",
       "      <td>0.371486</td>\n",
       "      <td>0.746255</td>\n",
       "    </tr>\n",
       "    <tr>\n",
       "      <th>4</th>\n",
       "      <td>K Nearest Neighbors</td>\n",
       "      <td>0.764426</td>\n",
       "      <td>0.455772</td>\n",
       "      <td>0.709163</td>\n",
       "    </tr>\n",
       "    <tr>\n",
       "      <th>5</th>\n",
       "      <td>Random Forest</td>\n",
       "      <td>0.743580</td>\n",
       "      <td>0.000000</td>\n",
       "      <td>0.553440</td>\n",
       "    </tr>\n",
       "  </tbody>\n",
       "</table>\n",
       "</div>"
      ],
      "text/plain": [
       "            Model Name  Accuracy  F1-score       ROC\n",
       "1   LogisticRegression  0.748863  0.188061  0.694148\n",
       "2             XG Boost  0.791361  0.458391  0.775728\n",
       "3       Neural Network  0.776335  0.371486  0.746255\n",
       "4  K Nearest Neighbors  0.764426  0.455772  0.709163\n",
       "5        Random Forest  0.743580  0.000000  0.553440"
      ]
     },
     "execution_count": 228,
     "metadata": {},
     "output_type": "execute_result"
    }
   ],
   "source": [
    "results.index = range(1, len(results) + 1)\n",
    "results\n"
   ]
  },
  {
   "cell_type": "code",
   "execution_count": null,
   "id": "b8df6060",
   "metadata": {},
   "outputs": [],
   "source": []
  },
  {
   "cell_type": "code",
   "execution_count": 249,
   "id": "61e7c27c",
   "metadata": {},
   "outputs": [
    {
     "name": "stdout",
     "output_type": "stream",
     "text": [
      "--------------Confusion Matrix--------------\n",
      "[[40682   838]\n",
      " [12379  1939]]\n"
     ]
    },
    {
     "data": {
      "image/png": "[encoded data removed]",
      "text/plain": [
       "<Figure size 640x480 with 2 Axes>"
      ]
     },
     "metadata": {},
     "output_type": "display_data"
    },
    {
     "name": "stdout",
     "output_type": "stream",
     "text": [
      "--------------Classification Report--------------\n",
      "              precision    recall  f1-score   support\n",
      "\n",
      "           0       0.77      0.98      0.86     41520\n",
      "           1       0.70      0.14      0.23     14318\n",
      "\n",
      "    accuracy                           0.76     55838\n",
      "   macro avg       0.73      0.56      0.54     55838\n",
      "weighted avg       0.75      0.76      0.70     55838\n",
      "\n",
      "--------------More Specific Classification Report--------------\n",
      "Accuracy:- 0.7632973960385401\n",
      "Sensitivity :- 0.045494005302550385\n",
      "Specificity :- 0.9798169556840077\n",
      "F1-Score :- 0.22684995612752268\n",
      "--------------ROC--------------\n"
     ]
    },
    {
     "data": {
      "image/png": "[encoded data removed]",
      "text/plain": [
       "<Figure size 500x500 with 1 Axes>"
      ]
     },
     "metadata": {},
     "output_type": "display_data"
    },
    {
     "ename": "TypeError",
     "evalue": "'numpy.float64' object is not callable",
     "output_type": "error",
     "traceback": [
      "\u001b[1;31m---------------------------------------------------------------------------\u001b[0m",
      "\u001b[1;31mTypeError\u001b[0m                                 Traceback (most recent call last)",
      "Cell \u001b[1;32mIn[249], line 1\u001b[0m\n\u001b[1;32m----> 1\u001b[0m display_test_results(\u001b[38;5;124m\"\u001b[39m\u001b[38;5;124mRandom Forest\u001b[39m\u001b[38;5;124m\"\u001b[39m, random_forest_model)\n",
      "Cell \u001b[1;32mIn[247], line 55\u001b[0m, in \u001b[0;36mdisplay_test_results\u001b[1;34m(model_name, model)\u001b[0m\n\u001b[0;32m     51\u001b[0m draw_roc(y_test, y_test_pred_proba)\n\u001b[0;32m     53\u001b[0m \u001b[38;5;66;03m# Add all Metrics score in final results store\u001b[39;00m\n\u001b[1;32m---> 55\u001b[0m results\u001b[38;5;241m.\u001b[39mloc[\u001b[38;5;28mlen\u001b[39m(results)] \u001b[38;5;241m=\u001b[39m [model_name, metrics\u001b[38;5;241m.\u001b[39maccuracy_score(y_test, y_test_pred), f1_score(y_test, y_test_pred), roc_auc(y_test, y_test_pred)]\n",
      "\u001b[1;31mTypeError\u001b[0m: 'numpy.float64' object is not callable"
     ]
    }
   ],
   "source": [
    "display_test_results(\"Random Forest\", random_forest_model)"
   ]
  },
  {
   "cell_type": "code",
   "execution_count": null,
   "id": "6f2ad791",
   "metadata": {},
   "outputs": [],
   "source": []
  },
  {
   "cell_type": "code",
   "execution_count": null,
   "id": "cdd59609",
   "metadata": {},
   "outputs": [],
   "source": []
  },
  {
   "cell_type": "code",
   "execution_count": null,
   "id": "966a557c",
   "metadata": {},
   "outputs": [],
   "source": [
    "\n"
   ]
  },
  {
   "cell_type": "code",
   "execution_count": 198,
   "id": "0e6d8bf7",
   "metadata": {
    "scrolled": true
   },
   "outputs": [],
   "source": [
    "from sklearn.neighbors import KNeighborsClassifier\n",
    "\n",
    "\n",
    "KNear_model = KNeighborsClassifier(n_neighbors=5, weights='uniform', algorithm='auto', leaf_size=30, p=2, metric='minkowski', metric_params=None, n_jobs=None)\n",
    "\n",
    "# Fit the model to the training data\n",
    "KNear_model.fit(X_train, y_train)"
   ]
  },
  {
   "cell_type": "code",
   "execution_count": 251,
   "id": "2ce65353",
   "metadata": {},
   "outputs": [
    {
     "name": "stdout",
     "output_type": "stream",
     "text": [
      "--------------K Nearest Neighbors Results--------------\n",
      "Accuracy: 0.7644256599448405\n",
      "F1 Score: 0.45577161770790237\n",
      "ROC AUC Score: 0.7091625390490324\n",
      "\n",
      "\n",
      "--------------Overall Results--------------\n",
      "            Model Name  Accuracy  F1-score       ROC\n",
      "1  K Nearest Neighbors  0.764426  0.455772  0.709163\n"
     ]
    }
   ],
   "source": [
    "import pandas as pd\n",
    "from sklearn.model_selection import train_test_split\n",
    "from sklearn.neighbors import KNeighborsClassifier\n",
    "from sklearn.preprocessing import StandardScaler\n",
    "from sklearn.metrics import accuracy_score, f1_score, roc_auc_score\n",
    "\n",
    "# Assuming you have X_train and y_train datasets\n",
    "# Replace X_train and y_train with your actual training data\n",
    "X_train, X_test, y_train, y_test = train_test_split(X, y, test_size=0.2, random_state=42)\n",
    "\n",
    "# Assuming you have a DataFrame with features (X) and target variable (y)\n",
    "# Replace X and y with your actual feature and target variable\n",
    "\n",
    "# Standardize the features using StandardScaler\n",
    "scaler = StandardScaler()\n",
    "X_train_scaled = scaler.fit_transform(X_train)\n",
    "X_test_scaled = scaler.transform(X_test)\n",
    "\n",
    "# Define the display_test_results function\n",
    "def display_test_results(model_name, model):\n",
    "    # Make predictions on the test set\n",
    "    y_pred = model.predict(X_test_scaled)\n",
    "    y_pred_proba = model.predict_proba(X_test_scaled)[:, 1]\n",
    "\n",
    "    # Evaluate the model\n",
    "    accuracy = accuracy_score(y_test, y_pred)\n",
    "    f1 = f1_score(y_test, y_pred)\n",
    "    roc_auc = roc_auc_score(y_test, y_pred_proba)\n",
    "\n",
    "    # Store the results in the 'results' DataFrame\n",
    "    results.loc[len(results) + 1] = [model_name, accuracy, f1, roc_auc]\n",
    "\n",
    "    # Display the results\n",
    "    print(f\"--------------{model_name} Results--------------\")\n",
    "    print(\"Accuracy:\", accuracy)\n",
    "    print(\"F1 Score:\", f1)\n",
    "    print(\"ROC AUC Score:\", roc_auc)\n",
    "    print(\"\\n\")\n",
    "\n",
    "# Create and train the KNN model\n",
    "KNear_model = KNeighborsClassifier(n_neighbors=5, weights='uniform', algorithm='auto', leaf_size=30, p=2, metric='minkowski', metric_params=None, n_jobs=None)\n",
    "KNear_model.fit(X_train_scaled, y_train)\n",
    "\n",
    "# Display and store results for K Nearest Neighbors model\n",
    "display_test_results(\"K Nearest Neighbors\", KNear_model)\n",
    "\n",
    "# Set the index of the 'results' DataFrame to start from 1\n",
    "results.index = range(1, len(results) + 1)\n",
    "\n",
    "# Display the overall results DataFrame\n",
    "print(\"--------------Overall Results--------------\")\n",
    "print(results)\n"
   ]
  },
  {
   "cell_type": "code",
   "execution_count": 223,
   "id": "bd834f68",
   "metadata": {
    "scrolled": true
   },
   "outputs": [
    {
     "data": {
      "text/html": [
       "<div>\n",
       "<style scoped>\n",
       "    .dataframe tbody tr th:only-of-type {\n",
       "        vertical-align: middle;\n",
       "    }\n",
       "\n",
       "    .dataframe tbody tr th {\n",
       "        vertical-align: top;\n",
       "    }\n",
       "\n",
       "    .dataframe thead th {\n",
       "        text-align: right;\n",
       "    }\n",
       "</style>\n",
       "<table border=\"1\" class=\"dataframe\">\n",
       "  <thead>\n",
       "    <tr style=\"text-align: right;\">\n",
       "      <th></th>\n",
       "      <th>Model Name</th>\n",
       "      <th>Accuracy</th>\n",
       "      <th>F1-score</th>\n",
       "      <th>ROC</th>\n",
       "    </tr>\n",
       "  </thead>\n",
       "  <tbody>\n",
       "    <tr>\n",
       "      <th>1</th>\n",
       "      <td>LogisticRegression</td>\n",
       "      <td>0.748863</td>\n",
       "      <td>0.188061</td>\n",
       "      <td>0.694148</td>\n",
       "    </tr>\n",
       "    <tr>\n",
       "      <th>2</th>\n",
       "      <td>XG Boost</td>\n",
       "      <td>0.791361</td>\n",
       "      <td>0.458391</td>\n",
       "      <td>0.775728</td>\n",
       "    </tr>\n",
       "    <tr>\n",
       "      <th>3</th>\n",
       "      <td>Neural Network</td>\n",
       "      <td>0.776335</td>\n",
       "      <td>0.371486</td>\n",
       "      <td>0.746255</td>\n",
       "    </tr>\n",
       "    <tr>\n",
       "      <th>4</th>\n",
       "      <td>K Nearest Neighbors</td>\n",
       "      <td>0.764426</td>\n",
       "      <td>0.455772</td>\n",
       "      <td>0.709163</td>\n",
       "    </tr>\n",
       "  </tbody>\n",
       "</table>\n",
       "</div>"
      ],
      "text/plain": [
       "            Model Name  Accuracy  F1-score       ROC\n",
       "1   LogisticRegression  0.748863  0.188061  0.694148\n",
       "2             XG Boost  0.791361  0.458391  0.775728\n",
       "3       Neural Network  0.776335  0.371486  0.746255\n",
       "4  K Nearest Neighbors  0.764426  0.455772  0.709163"
      ]
     },
     "execution_count": 223,
     "metadata": {},
     "output_type": "execute_result"
    }
   ],
   "source": [
    "results.index = range(1, len(results) + 1)\n",
    "results\n"
   ]
  },
  {
   "cell_type": "markdown",
   "id": "3d4d5f01",
   "metadata": {},
   "source": [
    "## K Nearest Neighbours"
   ]
  },
  {
   "cell_type": "code",
   "execution_count": null,
   "id": "e1d40d23",
   "metadata": {},
   "outputs": [],
   "source": []
  },
  {
   "cell_type": "code",
   "execution_count": 250,
   "id": "ffa9a135",
   "metadata": {},
   "outputs": [
    {
     "name": "stdout",
     "output_type": "stream",
     "text": [
      "Epoch 1/10\n",
      "5584/5584 [==============================] - 14s 2ms/step - loss: 0.5119 - accuracy: 0.7618 - val_loss: 0.5064 - val_accuracy: 0.7641\n",
      "Epoch 2/10\n",
      "5584/5584 [==============================] - 11s 2ms/step - loss: 0.5017 - accuracy: 0.7687 - val_loss: 0.5023 - val_accuracy: 0.7684\n",
      "Epoch 3/10\n",
      "5584/5584 [==============================] - 10s 2ms/step - loss: 0.4979 - accuracy: 0.7711 - val_loss: 0.4996 - val_accuracy: 0.7679\n",
      "Epoch 4/10\n",
      "5584/5584 [==============================] - 11s 2ms/step - loss: 0.4949 - accuracy: 0.7734 - val_loss: 0.4975 - val_accuracy: 0.7698\n",
      "Epoch 5/10\n",
      "5584/5584 [==============================] - 12s 2ms/step - loss: 0.4925 - accuracy: 0.7747 - val_loss: 0.4955 - val_accuracy: 0.7705\n",
      "Epoch 6/10\n",
      "5584/5584 [==============================] - 12s 2ms/step - loss: 0.4906 - accuracy: 0.7762 - val_loss: 0.4942 - val_accuracy: 0.7733\n",
      "Epoch 7/10\n",
      "5584/5584 [==============================] - 11s 2ms/step - loss: 0.4894 - accuracy: 0.7774 - val_loss: 0.4933 - val_accuracy: 0.7733\n",
      "Epoch 8/10\n",
      "5584/5584 [==============================] - 10s 2ms/step - loss: 0.4880 - accuracy: 0.7783 - val_loss: 0.4944 - val_accuracy: 0.7723\n",
      "Epoch 9/10\n",
      "5584/5584 [==============================] - 11s 2ms/step - loss: 0.4868 - accuracy: 0.7792 - val_loss: 0.4918 - val_accuracy: 0.7736\n",
      "Epoch 10/10\n",
      "5584/5584 [==============================] - 10s 2ms/step - loss: 0.4857 - accuracy: 0.7799 - val_loss: 0.4930 - val_accuracy: 0.7741\n",
      "1745/1745 [==============================] - 2s 1ms/step\n",
      "Accuracy: 0.7767112002578889\n",
      "Classification Report:\n",
      "              precision    recall  f1-score   support\n",
      "\n",
      "           0       0.80      0.94      0.86     41520\n",
      "           1       0.64      0.30      0.41     14318\n",
      "\n",
      "    accuracy                           0.78     55838\n",
      "   macro avg       0.72      0.62      0.63     55838\n",
      "weighted avg       0.76      0.78      0.75     55838\n",
      "\n"
     ]
    }
   ],
   "source": [
    "import numpy as np\n",
    "import pandas as pd\n",
    "from sklearn.model_selection import train_test_split\n",
    "from sklearn.preprocessing import StandardScaler\n",
    "from sklearn.metrics import accuracy_score, classification_report\n",
    "from tensorflow.keras.models import Sequential\n",
    "from tensorflow.keras.layers import Dense\n",
    "\n",
    "# Assuming you have a DataFrame with features (X) and target variable (y)\n",
    "# Replace X and y with your actual feature and target variable\n",
    "\n",
    "# Split the data into training and testing sets\n",
    "X_train, X_test, y_train, y_test = train_test_split(X, y, test_size=0.2, random_state=42)\n",
    "\n",
    "# Standardize the features using StandardScaler\n",
    "scaler = StandardScaler()\n",
    "X_train_scaled = scaler.fit_transform(X_train)\n",
    "X_test_scaled = scaler.transform(X_test)\n",
    "\n",
    "# Build the neural network model\n",
    "model = Sequential()\n",
    "model.add(Dense(units=64, activation='relu', input_dim=X_train.shape[1]))\n",
    "model.add(Dense(units=32, activation='relu'))\n",
    "model.add(Dense(units=1, activation='sigmoid'))\n",
    "\n",
    "# Compile the model\n",
    "model.compile(optimizer='adam', loss='binary_crossentropy', metrics=['accuracy'])\n",
    "\n",
    "# Train the model\n",
    "model.fit(X_train_scaled, y_train, epochs=10, batch_size=32, validation_split=0.2)\n",
    "\n",
    "# Evaluate the model on the test set\n",
    "y_pred = (model.predict(X_test_scaled) > 0.5).astype(\"int32\")\n",
    "accuracy = accuracy_score(y_test, y_pred)\n",
    "\n",
    "print(\"Accuracy:\", accuracy)\n",
    "print(\"Classification Report:\")\n",
    "print(classification_report(y_test, y_pred))\n"
   ]
  },
  {
   "cell_type": "code",
   "execution_count": 220,
   "id": "b623c753",
   "metadata": {},
   "outputs": [
    {
     "name": "stdout",
     "output_type": "stream",
     "text": [
      "Epoch 1/10\n",
      "5584/5584 [==============================] - 15s 2ms/step - loss: 0.5120 - accuracy: 0.7618 - val_loss: 0.5111 - val_accuracy: 0.7608\n",
      "Epoch 2/10\n",
      "5584/5584 [==============================] - 10s 2ms/step - loss: 0.5025 - accuracy: 0.7682 - val_loss: 0.5033 - val_accuracy: 0.7670\n",
      "Epoch 3/10\n",
      "5584/5584 [==============================] - 11s 2ms/step - loss: 0.4984 - accuracy: 0.7717 - val_loss: 0.5007 - val_accuracy: 0.7691\n",
      "Epoch 4/10\n",
      "5584/5584 [==============================] - 11s 2ms/step - loss: 0.4954 - accuracy: 0.7733 - val_loss: 0.4989 - val_accuracy: 0.7704\n",
      "Epoch 5/10\n",
      "5584/5584 [==============================] - 11s 2ms/step - loss: 0.4932 - accuracy: 0.7750 - val_loss: 0.4954 - val_accuracy: 0.7711\n",
      "Epoch 6/10\n",
      "5584/5584 [==============================] - 11s 2ms/step - loss: 0.4910 - accuracy: 0.7765 - val_loss: 0.4968 - val_accuracy: 0.7720\n",
      "Epoch 7/10\n",
      "5584/5584 [==============================] - 10s 2ms/step - loss: 0.4897 - accuracy: 0.7770 - val_loss: 0.4945 - val_accuracy: 0.7733\n",
      "Epoch 8/10\n",
      "5584/5584 [==============================] - 11s 2ms/step - loss: 0.4884 - accuracy: 0.7780 - val_loss: 0.4936 - val_accuracy: 0.7735\n",
      "Epoch 9/10\n",
      "5584/5584 [==============================] - 10s 2ms/step - loss: 0.4871 - accuracy: 0.7792 - val_loss: 0.4938 - val_accuracy: 0.7744\n",
      "Epoch 10/10\n",
      "5584/5584 [==============================] - 10s 2ms/step - loss: 0.4861 - accuracy: 0.7799 - val_loss: 0.4925 - val_accuracy: 0.7739\n",
      "1745/1745 [==============================] - 2s 1ms/step\n",
      "Accuracy: 0.7763351122891221\n",
      "Neural Network:\n",
      "              precision    recall  f1-score   support\n",
      "\n",
      "           0       0.79      0.94      0.86     41520\n",
      "           1       0.64      0.29      0.40     14318\n",
      "\n",
      "    accuracy                           0.78     55838\n",
      "   macro avg       0.72      0.62      0.63     55838\n",
      "weighted avg       0.75      0.78      0.74     55838\n",
      "\n"
     ]
    }
   ],
   "source": [
    "# Assuming you have a DataFrame with features (X) and target variable (y)\n",
    "# Replace X and y with your actual feature and target variable\n",
    "\n",
    "# Split the data into training and testing sets\n",
    "X_train, X_test, y_train, y_test = train_test_split(X, y, test_size=0.2, random_state=42)\n",
    "\n",
    "# Standardize the features using StandardScaler\n",
    "scaler = StandardScaler()\n",
    "X_train_scaled = scaler.fit_transform(X_train)\n",
    "X_test_scaled = scaler.transform(X_test)\n",
    "\n",
    "# Build the neural network model\n",
    "model = Sequential()\n",
    "model.add(Dense(units=64, activation='relu', input_dim=X_train.shape[1]))\n",
    "model.add(Dense(units=32, activation='relu'))\n",
    "model.add(Dense(units=1, activation='sigmoid'))\n",
    "\n",
    "# Compile the model\n",
    "model.compile(optimizer='adam', loss='binary_crossentropy', metrics=['accuracy'])\n",
    "\n",
    "# Train the model\n",
    "model.fit(X_train_scaled, y_train, epochs=10, batch_size=32, validation_split=0.2)\n",
    "\n",
    "# Evaluate the model on the test set\n",
    "y_pred = (model.predict(X_test_scaled) > 0.5).astype(\"int32\")\n",
    "accuracy = accuracy_score(y_test, y_pred)\n",
    "results.loc[len(results)] = [\"Neural Network\", accuracy, f1, roc_auc]\n",
    "\n",
    "\n",
    "print(\"Accuracy:\", accuracy)\n",
    "print(\"Neural Network:\")\n",
    "print(classification_report(y_test, y_pred))\n",
    "\n"
   ]
  },
  {
   "cell_type": "code",
   "execution_count": 221,
   "id": "4b6160bb",
   "metadata": {},
   "outputs": [
    {
     "data": {
      "text/html": [
       "<div>\n",
       "<style scoped>\n",
       "    .dataframe tbody tr th:only-of-type {\n",
       "        vertical-align: middle;\n",
       "    }\n",
       "\n",
       "    .dataframe tbody tr th {\n",
       "        vertical-align: top;\n",
       "    }\n",
       "\n",
       "    .dataframe thead th {\n",
       "        text-align: right;\n",
       "    }\n",
       "</style>\n",
       "<table border=\"1\" class=\"dataframe\">\n",
       "  <thead>\n",
       "    <tr style=\"text-align: right;\">\n",
       "      <th></th>\n",
       "      <th>Model Name</th>\n",
       "      <th>Accuracy</th>\n",
       "      <th>F1-score</th>\n",
       "      <th>ROC</th>\n",
       "    </tr>\n",
       "  </thead>\n",
       "  <tbody>\n",
       "    <tr>\n",
       "      <th>1</th>\n",
       "      <td>LogisticRegression</td>\n",
       "      <td>0.748863</td>\n",
       "      <td>0.188061</td>\n",
       "      <td>0.694148</td>\n",
       "    </tr>\n",
       "    <tr>\n",
       "      <th>2</th>\n",
       "      <td>XG Boost</td>\n",
       "      <td>0.791361</td>\n",
       "      <td>0.458391</td>\n",
       "      <td>0.775728</td>\n",
       "    </tr>\n",
       "    <tr>\n",
       "      <th>3</th>\n",
       "      <td>Neural Network</td>\n",
       "      <td>0.776335</td>\n",
       "      <td>0.371486</td>\n",
       "      <td>0.746255</td>\n",
       "    </tr>\n",
       "  </tbody>\n",
       "</table>\n",
       "</div>"
      ],
      "text/plain": [
       "           Model Name  Accuracy  F1-score       ROC\n",
       "1  LogisticRegression  0.748863  0.188061  0.694148\n",
       "2            XG Boost  0.791361  0.458391  0.775728\n",
       "3      Neural Network  0.776335  0.371486  0.746255"
      ]
     },
     "execution_count": 221,
     "metadata": {},
     "output_type": "execute_result"
    }
   ],
   "source": [
    "results.index = range(1, len(results) + 1)\n",
    "results\n"
   ]
  },
  {
   "cell_type": "code",
   "execution_count": 201,
   "id": "e754ed5d",
   "metadata": {},
   "outputs": [
    {
     "data": {
      "text/html": [
       "<div>\n",
       "<style scoped>\n",
       "    .dataframe tbody tr th:only-of-type {\n",
       "        vertical-align: middle;\n",
       "    }\n",
       "\n",
       "    .dataframe tbody tr th {\n",
       "        vertical-align: top;\n",
       "    }\n",
       "\n",
       "    .dataframe thead th {\n",
       "        text-align: right;\n",
       "    }\n",
       "</style>\n",
       "<table border=\"1\" class=\"dataframe\">\n",
       "  <thead>\n",
       "    <tr style=\"text-align: right;\">\n",
       "      <th></th>\n",
       "      <th>Model Name</th>\n",
       "      <th>Accuracy</th>\n",
       "      <th>F1-score</th>\n",
       "      <th>ROC</th>\n",
       "    </tr>\n",
       "  </thead>\n",
       "  <tbody>\n",
       "    <tr>\n",
       "      <th>1</th>\n",
       "      <td>LogisticRegression</td>\n",
       "      <td>0.748863</td>\n",
       "      <td>0.188061</td>\n",
       "      <td>0.694148</td>\n",
       "    </tr>\n",
       "    <tr>\n",
       "      <th>2</th>\n",
       "      <td>XG Boost</td>\n",
       "      <td>0.791361</td>\n",
       "      <td>0.458391</td>\n",
       "      <td>0.775728</td>\n",
       "    </tr>\n",
       "    <tr>\n",
       "      <th>3</th>\n",
       "      <td>Decision Tree</td>\n",
       "      <td>0.760736</td>\n",
       "      <td>0.262123</td>\n",
       "      <td>0.703584</td>\n",
       "    </tr>\n",
       "    <tr>\n",
       "      <th>4</th>\n",
       "      <td>K Nearest Neighbors</td>\n",
       "      <td>0.776460</td>\n",
       "      <td>0.371486</td>\n",
       "      <td>0.746255</td>\n",
       "    </tr>\n",
       "    <tr>\n",
       "      <th>5</th>\n",
       "      <td>K Nearest Neighbors</td>\n",
       "      <td>0.776460</td>\n",
       "      <td>0.371486</td>\n",
       "      <td>0.746255</td>\n",
       "    </tr>\n",
       "  </tbody>\n",
       "</table>\n",
       "</div>"
      ],
      "text/plain": [
       "            Model Name  Accuracy  F1-score       ROC\n",
       "1   LogisticRegression  0.748863  0.188061  0.694148\n",
       "2             XG Boost  0.791361  0.458391  0.775728\n",
       "3        Decision Tree  0.760736  0.262123  0.703584\n",
       "4  K Nearest Neighbors  0.776460  0.371486  0.746255\n",
       "5  K Nearest Neighbors  0.776460  0.371486  0.746255"
      ]
     },
     "execution_count": 201,
     "metadata": {},
     "output_type": "execute_result"
    }
   ],
   "source": [
    "results.sort_values(by=\"ROC\", ascending=False)\n",
    "results"
   ]
  },
  {
   "cell_type": "code",
   "execution_count": null,
   "id": "162be4d2",
   "metadata": {},
   "outputs": [],
   "source": []
  },
  {
   "cell_type": "markdown",
   "id": "79323943",
   "metadata": {},
   "source": [
    "## Gaussian NB"
   ]
  },
  {
   "cell_type": "code",
   "execution_count": 76,
   "id": "11d4c578",
   "metadata": {},
   "outputs": [
    {
     "name": "stderr",
     "output_type": "stream",
     "text": [
      "[Parallel(n_jobs=1)]: Using backend SequentialBackend with 1 concurrent workers.\n"
     ]
    },
    {
     "name": "stdout",
     "output_type": "stream",
     "text": [
      "[CV] END ................................ score: (test=0.675) total time=   0.2s\n"
     ]
    },
    {
     "name": "stderr",
     "output_type": "stream",
     "text": [
      "[Parallel(n_jobs=1)]: Done   1 out of   1 | elapsed:    0.3s remaining:    0.0s\n"
     ]
    },
    {
     "name": "stdout",
     "output_type": "stream",
     "text": [
      "[CV] END ................................ score: (test=0.669) total time=   0.2s\n"
     ]
    },
    {
     "name": "stderr",
     "output_type": "stream",
     "text": [
      "[Parallel(n_jobs=1)]: Done   2 out of   2 | elapsed:    0.6s remaining:    0.0s\n"
     ]
    },
    {
     "name": "stdout",
     "output_type": "stream",
     "text": [
      "[CV] END ................................ score: (test=0.677) total time=   0.2s\n",
      "[CV] END ................................ score: (test=0.677) total time=   0.2s\n",
      "[CV] END ................................ score: (test=0.675) total time=   0.2s\n"
     ]
    },
    {
     "name": "stderr",
     "output_type": "stream",
     "text": [
      "[Parallel(n_jobs=1)]: Done   5 out of   5 | elapsed:    1.5s finished\n"
     ]
    },
    {
     "data": {
      "text/plain": [
       "(0.6746140193437411, 0.0028318902475703432)"
      ]
     },
     "execution_count": 76,
     "metadata": {},
     "output_type": "execute_result"
    }
   ],
   "source": [
    "nb = GaussianNB()\n",
    "kfold = StratifiedKFold(n_splits=5, random_state=2021, shuffle=True)\n",
    "scores = cross_val_score(nb, X_train, y_train, cv=kfold, scoring='roc_auc', verbose=3)\n",
    "\n",
    "scores.mean(), scores.std()"
   ]
  },
  {
   "cell_type": "markdown",
   "id": "3572fbdb",
   "metadata": {},
   "source": [
    "# Decision Tree"
   ]
  },
  {
   "cell_type": "code",
   "execution_count": 77,
   "id": "2febf122",
   "metadata": {},
   "outputs": [
    {
     "name": "stdout",
     "output_type": "stream",
     "text": [
      "Fitting 5 folds for each of 150 candidates, totalling 750 fits\n"
     ]
    },
    {
     "data": {
      "text/plain": [
       "({'max_depth': 13, 'min_samples_leaf': 22, 'min_samples_split': 12},\n",
       " 0.7335416504853077,\n",
       " DecisionTreeClassifier(max_depth=13, min_samples_leaf=22, min_samples_split=12))"
      ]
     },
     "execution_count": 77,
     "metadata": {},
     "output_type": "execute_result"
    }
   ],
   "source": [
    "kfold = StratifiedKFold(n_splits=5, random_state=2021, shuffle=True)\n",
    "dtree = DecisionTreeClassifier()\n",
    "parameters = {'max_depth' : np.arange(3, 31,5),\n",
    "             'min_samples_split' : np.arange(2,23,5),\n",
    "             'min_samples_leaf' : np.arange(2,23,5)}\n",
    "\n",
    "cv_dtree = GridSearchCV(dtree, param_grid=parameters, cv=kfold, scoring='roc_auc', verbose=1, n_jobs=8)\n",
    "cv_dtree.fit(X_train,y_train)\n",
    "cv_dtree.best_params_, cv_dtree.best_score_, cv_dtree.best_estimator_"
   ]
  },
  {
   "cell_type": "code",
   "execution_count": 78,
   "id": "0b228238",
   "metadata": {},
   "outputs": [
    {
     "data": {
      "text/plain": [
       "({'max_depth': 13, 'min_samples_leaf': 22, 'min_samples_split': 12},\n",
       " 0.7335416504853077,\n",
       " DecisionTreeClassifier(max_depth=13, min_samples_leaf=22, min_samples_split=12))"
      ]
     },
     "execution_count": 78,
     "metadata": {},
     "output_type": "execute_result"
    }
   ],
   "source": [
    "cv_dtree.best_params_, cv_dtree.best_score_, cv_dtree.best_estimator_"
   ]
  },
  {
   "cell_type": "code",
   "execution_count": 79,
   "id": "5a646928",
   "metadata": {},
   "outputs": [
    {
     "data": {
      "text/plain": [
       "0.738343461595343"
      ]
     },
     "execution_count": 79,
     "metadata": {},
     "output_type": "execute_result"
    }
   ],
   "source": [
    "y_pred_dtree = cv_dtree.predict_proba(X_test)\n",
    "roc_auc_score(y_test, y_pred_dtree[:,-1])"
   ]
  },
  {
   "cell_type": "markdown",
   "id": "425c027d",
   "metadata": {},
   "source": [
    "# Random Forest"
   ]
  },
  {
   "cell_type": "code",
   "execution_count": 80,
   "id": "89b22c7f",
   "metadata": {},
   "outputs": [
    {
     "name": "stdout",
     "output_type": "stream",
     "text": [
      "0.7510060158227099\n",
      "0.7689814767890756\n",
      "0.7673455584333004\n",
      "0.7615168103209261\n"
     ]
    }
   ],
   "source": [
    "X_tr,X_te,y_tr,y_te = train_test_split(X_train,y_train,random_state=2021, test_size=0.2, stratify=y_train)\n",
    "for depth in [10,15,20,25]:\n",
    "    model_rf = RandomForestClassifier(random_state=2021, max_depth=depth)\n",
    "    model_rf.fit(X_tr, y_tr)\n",
    "    y_pr = model_rf.predict_proba(X_te)\n",
    "    print(roc_auc_score(y_te, y_pr[:,-1]))"
   ]
  },
  {
   "cell_type": "code",
   "execution_count": null,
   "id": "2cfeb262",
   "metadata": {},
   "outputs": [],
   "source": [
    "model_rf = RandomForestClassifier(random_state=2021, max_depth=20)\n",
    "model_rf.fit(X_train, y_train)"
   ]
  },
  {
   "cell_type": "code",
   "execution_count": 127,
   "id": "b220598f",
   "metadata": {},
   "outputs": [
    {
     "data": {
      "text/html": [
       "<div>\n",
       "<style scoped>\n",
       "    .dataframe tbody tr th:only-of-type {\n",
       "        vertical-align: middle;\n",
       "    }\n",
       "\n",
       "    .dataframe tbody tr th {\n",
       "        vertical-align: top;\n",
       "    }\n",
       "\n",
       "    .dataframe thead th {\n",
       "        text-align: right;\n",
       "    }\n",
       "</style>\n",
       "<table border=\"1\" class=\"dataframe\">\n",
       "  <thead>\n",
       "    <tr style=\"text-align: right;\">\n",
       "      <th></th>\n",
       "      <th>Model Name</th>\n",
       "      <th>Accuracy</th>\n",
       "      <th>F1-score</th>\n",
       "      <th>ROC</th>\n",
       "    </tr>\n",
       "  </thead>\n",
       "  <tbody>\n",
       "    <tr>\n",
       "      <th>0</th>\n",
       "      <td>K Nearest Neighbors</td>\n",
       "      <td>0.77578</td>\n",
       "      <td>0.371486</td>\n",
       "      <td>0.746255</td>\n",
       "    </tr>\n",
       "  </tbody>\n",
       "</table>\n",
       "</div>"
      ],
      "text/plain": [
       "            Model Name  Accuracy  F1-score       ROC\n",
       "0  K Nearest Neighbors   0.77578  0.371486  0.746255"
      ]
     },
     "execution_count": 127,
     "metadata": {},
     "output_type": "execute_result"
    }
   ],
   "source": [
    "results"
   ]
  },
  {
   "cell_type": "markdown",
   "id": "05e962f1",
   "metadata": {},
   "source": [
    "# Linear Quadradic discriminator"
   ]
  },
  {
   "cell_type": "code",
   "execution_count": null,
   "id": "dfd8b4ff",
   "metadata": {},
   "outputs": [],
   "source": [
    "import warnings\n",
    "warnings.filterwarnings(\"ignore\")"
   ]
  },
  {
   "cell_type": "code",
   "execution_count": null,
   "id": "32ee1a00",
   "metadata": {},
   "outputs": [],
   "source": [
    "kfold = StratifiedKFold(n_splits=5, random_state=2021, shuffle=True)\n",
    "\n",
    "lda = LinearDiscriminantAnalysis()\n",
    "scores = cross_val_score(lda, X_train, y_train, cv=kfold, scoring='roc_auc')\n",
    "print(f'linear : mean={scores.mean()}, std_dev={scores.std()}')\n",
    "\n",
    "qda = QuadraticDiscriminantAnalysis()\n",
    "scores = cross_val_score(qda, X_train, y_train, cv=kfold, scoring='roc_auc')\n",
    "print(f'linear : mean={scores.mean()}, std_dev={scores.std()}')"
   ]
  },
  {
   "cell_type": "code",
   "execution_count": null,
   "id": "cf5d55f3",
   "metadata": {},
   "outputs": [],
   "source": [
    "lda.fit(X_train, y_train)\n",
    "y_pred_da = lda.predict_proba(X_test)\n",
    "roc_auc_score(y_test, y_pred_da[:,-1])"
   ]
  },
  {
   "cell_type": "markdown",
   "id": "fc1cd79f",
   "metadata": {},
   "source": [
    "# Extreme Gradient Boost(XGB)"
   ]
  },
  {
   "cell_type": "code",
   "execution_count": null,
   "id": "889b0a6f",
   "metadata": {},
   "outputs": [],
   "source": [
    "X_tr,X_te,y_tr,y_te = train_test_split(X_train,y_train,random_state=2021, test_size=0.2, stratify=y_train)\n",
    "for depth in [10,15,20,25]:\n",
    "    clf = XGBClassifier(random_state=2021, n_jobs=8, use_label_encoder=False, verbosity=0, silent=True, \n",
    "                        learning_rate=0.1, \n",
    "                        max_depth=depth)\n",
    "    clf.fit(X_tr, y_tr)\n",
    "    y_pr = clf.predict_proba(X_te)\n",
    "    print(roc_auc_score(y_te, y_pr[:,-1]))"
   ]
  },
  {
   "cell_type": "code",
   "execution_count": null,
   "id": "a198e0af",
   "metadata": {},
   "outputs": [],
   "source": []
  },
  {
   "cell_type": "code",
   "execution_count": null,
   "id": "b457aa76",
   "metadata": {},
   "outputs": [],
   "source": [
    "X_tr,X_te,y_tr,y_te = train_test_split(X_train,y_train,random_state=2021, test_size=0.2, stratify=y_train)\n",
    "for learn_rate in [0.05, 0.1, 0.15, 0.2, 0.25]:\n",
    "    clf = XGBClassifier(random_state=2021, n_jobs=8, use_label_encoder=False, verbosity=0, silent=True, \n",
    "                        learning_rate=learn_rate,\n",
    "                        max_depth=10)\n",
    "    clf.fit(X_tr, y_tr)\n",
    "    y_pr = clf.predict_proba(X_te)\n",
    "    print(roc_auc_score(y_te, y_pr[:,-1]))"
   ]
  },
  {
   "cell_type": "code",
   "execution_count": null,
   "id": "5e922aa3",
   "metadata": {},
   "outputs": [],
   "source": [
    "clf = XGBClassifier(random_state=2021, n_jobs=8, use_label_encoder=False, verbosity=0, silent=True, \n",
    "                    learning_rate=0.1,\n",
    "                    max_depth=10)\n",
    "clf.fit(X_train, y_train)\n",
    "y_pred_xgb = clf.predict_proba(X_test)\n",
    "roc_auc_score(y_test, y_pred_xgb[:,-1])"
   ]
  }
 ],
 "metadata": {
  "kernelspec": {
   "display_name": "Python 3 (ipykernel)",
   "language": "python",
   "name": "python3"
  },
  "language_info": {
   "codemirror_mode": {
    "name": "ipython",
    "version": 3
   },
   "file_extension": ".py",
   "mimetype": "text/x-python",
   "name": "python",
   "nbconvert_exporter": "python",
   "pygments_lexer": "ipython3",
   "version": "3.11.5"
  }
 },
 "nbformat": 4,
 "nbformat_minor": 5
}
